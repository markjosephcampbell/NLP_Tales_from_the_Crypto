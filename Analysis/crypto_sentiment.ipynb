{
 "cells": [
  {
   "cell_type": "markdown",
   "metadata": {},
   "source": [
    "# Unit 12 - Tales from the Crypto\n",
    "\n",
    "---\n"
   ]
  },
  {
   "cell_type": "markdown",
   "metadata": {},
   "source": [
    "## 1. Sentiment Analysis\n",
    "\n",
    "Use the [newsapi](https://newsapi.org/) to pull the latest news articles for Bitcoin and Ethereum and create a DataFrame of sentiment scores for each coin.\n",
    "\n",
    "Use descriptive statistics to answer the following questions:\n",
    "1. Which coin had the highest mean positive score?\n",
    "2. Which coin had the highest negative score?\n",
    "3. Which coin had the highest positive score?"
   ]
  },
  {
   "cell_type": "code",
   "execution_count": 125,
   "metadata": {},
   "outputs": [],
   "source": [
    "# pip install newsapi-python"
   ]
  },
  {
   "cell_type": "code",
   "execution_count": 126,
   "metadata": {},
   "outputs": [
    {
     "name": "stderr",
     "output_type": "stream",
     "text": [
      "[nltk_data] Downloading package vader_lexicon to\n",
      "[nltk_data]     /Users/mcmachine/nltk_data...\n",
      "[nltk_data]   Package vader_lexicon is already up-to-date!\n"
     ]
    }
   ],
   "source": [
    "# Initial imports\n",
    "import os\n",
    "import pandas as pd\n",
    "from dotenv import load_dotenv\n",
    "import nltk as nltk\n",
    "nltk.download('vader_lexicon')\n",
    "from nltk.sentiment.vader import SentimentIntensityAnalyzer\n",
    "analyzer = SentimentIntensityAnalyzer()\n",
    "\n",
    "%matplotlib inline"
   ]
  },
  {
   "cell_type": "code",
   "execution_count": 127,
   "metadata": {},
   "outputs": [],
   "source": [
    "# Read your api key environment variable\n",
    "load_dotenv()\n",
    "news_api = os.getenv(\"NEWS_API_KEY\")\n",
    "#print(news_api)"
   ]
  },
  {
   "cell_type": "code",
   "execution_count": 128,
   "metadata": {},
   "outputs": [],
   "source": [
    "# Create a newsapi client\n",
    "from newsapi import NewsApiClient\n",
    "newsapi = NewsApiClient(news_api)"
   ]
  },
  {
   "cell_type": "code",
   "execution_count": 129,
   "metadata": {},
   "outputs": [
    {
     "data": {
      "text/plain": [
       "{'status': 'ok',\n",
       " 'totalResults': 6637,\n",
       " 'articles': [{'source': {'id': 'engadget', 'name': 'Engadget'},\n",
       "   'author': 'Jon Fingas',\n",
       "   'title': 'AMC theaters will accept cryptocurrencies beyond Bitcoin',\n",
       "   'description': \"You won't have to stick to Bitcoin if you're determined to pay for your movie ticket with cryptocurrency. AMC chief Adam Aron has revealed his theater chain will also accept Ethereum, Litecoin and Bitcoin Cash when crypto payments are available. He didn't hav…\",\n",
       "   'url': 'https://www.engadget.com/amc-theaters-accept-ethereum-litecoin-bitcoin-cash-132642183.html',\n",
       "   'urlToImage': 'https://s.yimg.com/os/creatr-uploaded-images/2021-09/4a01cb80-16eb-11ec-abfe-c7b840dd48ca',\n",
       "   'publishedAt': '2021-09-16T13:26:42Z',\n",
       "   'content': \"You won't have to stick to Bitcoin if you're determined to pay for your movie ticket with cryptocurrency. AMC chief Adam Aron has revealed his theater chain will also accept Ethereum, Litecoin and Bi… [+1198 chars]\"},\n",
       "  {'source': {'id': 'engadget', 'name': 'Engadget'},\n",
       "   'author': 'Karissa Bell',\n",
       "   'title': 'Twitter will let users send and receive Bitcoin tips',\n",
       "   'description': 'Four months after Twitter first introduced in-app tipping, the company is expanding its “tip jar” feature in a major way. The company is opening up tipping to all its users globally, and for the first time will allow some users to send and receive tips in Bit…',\n",
       "   'url': 'https://www.engadget.com/twitter-opens-tipping-in-bitcoin-170017891.html',\n",
       "   'urlToImage': 'https://s.yimg.com/os/creatr-uploaded-images/2021-09/28751be0-1c8e-11ec-9ffb-353ffababd7e',\n",
       "   'publishedAt': '2021-09-23T17:00:17Z',\n",
       "   'content': 'Four months after Twitter first introduced in-app tipping, the company is expanding its tip jar feature in a major way. The company is opening up tipping to all its users globally, and for the first … [+2390 chars]'},\n",
       "  {'source': {'id': None, 'name': 'Blogspot.com'},\n",
       "   'author': 'noreply@blogger.com (Unknown)',\n",
       "   'title': 'Bitcoin hits strongest level since May',\n",
       "   'description': '<ul><li>Bitcoin, in terms of market value, rose 4.6% to $53,859.6.</li><li>It passed $50,000 mark for first time in four weeks on Tuesday.\\xa0</li><li>Bitcoin fell below $50,000 in early September.</li></ul>Bitcoin hit its highest level since mid-May on Wednesda…',\n",
       "   'url': 'https://techncruncher.blogspot.com/2021/10/bitcoin-hits-strongest-level-since-may.html',\n",
       "   'urlToImage': 'https://blogger.googleusercontent.com/img/a/AVvXsEhiFZua2TKlWOHoZ5qipQ8zBVpSMbXNdxOFJmwNkddvji4GqJRO4SonCCmwV_IBrxtHCb2UlJ850RuZPY75s54QZkedzrYthaQqoo4tuOD3zUbMhTGxJ2T-rFtSu8I1vRJY9RtH8dWw7_5XtGfoeUvJuAWZU-U9XLsHKTKffBSWD6G9su34rjkO0sYD-w=w1200-h630-p-k-no-nu',\n",
       "   'publishedAt': '2021-10-06T17:17:00Z',\n",
       "   'content': '<ul><li>Bitcoin, in terms of market value, rose 4.6% to $53,859.6.</li><li>It passed $50,000 mark for first time in four weeks on Tuesday.\\xa0</li><li>Bitcoin fell below $50,000 in early September.</li>… [+821 chars]'},\n",
       "  {'source': {'id': 'engadget', 'name': 'Engadget'},\n",
       "   'author': 'Andrew Tarantola',\n",
       "   'title': \"Hitting the Books: How Bitcoin is somehow worth more than the paper it's printed on\",\n",
       "   'description': 'Bitcoin and similar blockchain-based cryptos exhibit the same radical divergence from traditional scarcity economics that we first saw when MP3s and Napster cratered physical album sales at the turn of the century. Unlike gold, which derives its value from bo…',\n",
       "   'url': 'https://www.engadget.com/hitting-the-books-the-future-of-money-eswar-prasad-harvard-university-press-153024975.html',\n",
       "   'urlToImage': 'https://s.yimg.com/os/creatr-uploaded-images/2021-09/5ea7d740-17ff-11ec-9ffd-ff33ac942d83',\n",
       "   'publishedAt': '2021-09-25T15:30:24Z',\n",
       "   'content': 'Bitcoin and similar blockchain-based cryptos exhibit the same radical divergence from traditional scarcity economics that we first saw when MP3s and Napster cratered physical album sales at the turn … [+8436 chars]'},\n",
       "  {'source': {'id': None, 'name': 'Blogspot.com'},\n",
       "   'author': 'noreply@blogger.com (Unknown)',\n",
       "   'title': 'JPMorgan CEO Says Bitcoin Has No Intrinsic Value After Claiming That Its Price Could Rise 10X',\n",
       "   'description': 'JPMorgan CEO Jamie Dimon is still not a Bitcoin fan despite rapid price appreciation   from U.Today https://ift.tt/3iyi5nR https://ift.tt/eA...',\n",
       "   'url': 'https://techncruncher.blogspot.com/2021/10/jpmorgan-ceo-says-bitcoin-has-no.html',\n",
       "   'urlToImage': None,\n",
       "   'publishedAt': '2021-10-04T19:49:00Z',\n",
       "   'content': 'JPMorgan CEO Jamie Dimon is still not a Bitcoin fan despite rapid price appreciationfrom U.Today https://ift.tt/3iyi5nR https://ift.tt/eA8V8J'},\n",
       "  {'source': {'id': None, 'name': 'Blogspot.com'},\n",
       "   'author': 'noreply@blogger.com (Unknown)',\n",
       "   'title': 'BTC, DOGE, and SHIBA Price Analysis for October 6',\n",
       "   'description': 'How high are the chances of Bitcoin sustaining its gains and pushing altcoins higher?   from U.Today https://ift.tt/3BkD5px https://ift.tt/e...',\n",
       "   'url': 'https://techncruncher.blogspot.com/2021/10/btc-doge-and-shiba-price-analysis-for.html',\n",
       "   'urlToImage': None,\n",
       "   'publishedAt': '2021-10-06T19:49:00Z',\n",
       "   'content': 'How high are the chances of Bitcoin sustaining its gains and pushing altcoins higher?from U.Today https://ift.tt/3BkD5px https://ift.tt/eA8V8J'},\n",
       "  {'source': {'id': None, 'name': 'Blogspot.com'},\n",
       "   'author': 'noreply@blogger.com (Unknown)',\n",
       "   'title': 'Why have Elon Musk and Tesla suddenly turned against bitcoin?',\n",
       "   'description': 'Elon Musk has performed a sudden U-turn on bitcoin over concerns about its energy usage, and says his electric car firm Tesla will no longer accept the cryptocurrency as payment – but will his decision have an impact, and could Tesla turn to an alternative cu…',\n",
       "   'url': 'https://techncruncher.blogspot.com/2021/09/why-have-elon-musk-and-tesla-suddenly.html',\n",
       "   'urlToImage': 'https://blogger.googleusercontent.com/img/a/AVvXsEh20SgNNsDlKyWWmB7XgB5SfFY10M6CqJAq93HwGtssTn2cWz6w9zHPjXf91WwoWr27QeaC4HsGv2NxPOXUdvk6xodUojnw8rUuAkEMY3Qb4ucoVpN3nSyF8JW_xVDWa2aSMEWH387hPsfouSJyClLNburIcDbXIeJamuTHwiSvw4hdNnqeeICcvg1wrQ=w1200-h630-p-k-no-nu',\n",
       "   'publishedAt': '2021-09-28T20:03:00Z',\n",
       "   'content': 'Elon Musk has performed a sudden U-turn on bitcoin over concerns about its energy usage, and says his electric car firm Tesla will no longer accept the cryptocurrency as payment – but will his decisi… [+3069 chars]'},\n",
       "  {'source': {'id': None, 'name': 'Blogspot.com'},\n",
       "   'author': 'noreply@blogger.com (Unknown)',\n",
       "   'title': 'Who Bought $1.6B in Bitcoin Wednesday, and Why?',\n",
       "   'description': 'last week the cryptocurrency market persistently asked the gnawing and annoying question, “Why?”\\r\\nSpecifically, why did someone make a massive purchase of $1.6 billion worth of bitcoin on Wednesday in a couple of minutes?\\r\\nWhile many see this huge buy as a si…',\n",
       "   'url': 'https://techncruncher.blogspot.com/2021/10/who-bought-16b-in-bitcoin-wednesday-and.html',\n",
       "   'urlToImage': 'https://blogger.googleusercontent.com/img/a/AVvXsEhsl_C2ZYUVeK-jmFi6Uqp_jp_ZkAFVcEXJD30f7HZvv6DGdmfboiV_UzjK5tbXge19JF93vpfwuN3KmtOaP-sfElPl1iTri7dE13Qn-epBs9qE93eEWjlP3lgWTuCsg_TxslHIoO1Dt61iSIYwmSVCJi4L-ap81CxS0pHD6eYqqClD11QGr_dfpPzQ6w=w1200-h630-p-k-no-nu',\n",
       "   'publishedAt': '2021-10-10T20:12:00Z',\n",
       "   'content': 'Specifically, why did someone make a massive purchase of $1.6 billion worth of bitcoin on Wednesday in a couple of minutes?\\r\\nWhile many see this huge buy as a signal of bullishness, there may be more… [+8443 chars]'},\n",
       "  {'source': {'id': 'the-verge', 'name': 'The Verge'},\n",
       "   'author': 'Kim Lyons',\n",
       "   'title': 'China’s central bank bans cryptocurrency transactions to avoid ‘risks’',\n",
       "   'description': 'China’s central bank on Friday said cryptocurrency transactions in the country are illegal, banning all transactions. It said cryptocurrencies like bitcoin and Ethereum are not legal tender and can’t be circulated.',\n",
       "   'url': 'https://www.theverge.com/2021/9/24/22691472/china-central-bank-cryptocurrency-illegal-bitcoin',\n",
       "   'urlToImage': 'https://cdn.vox-cdn.com/thumbor/mde_l3lUC4muDPEFG7LYrUz0O3g=/0x146:2040x1214/fit-in/1200x630/cdn.vox-cdn.com/uploads/chorus_asset/file/8921023/acastro_bitcoin_2.jpg',\n",
       "   'publishedAt': '2021-09-24T16:22:55Z',\n",
       "   'content': 'Its the countrys latest crackdown on digital currencies\\r\\nIllustration by Alex Castro / The Verge\\r\\nThe Peoples Bank of China, the countrys central bank, said Friday that cryptocurrency transactions ar… [+1461 chars]'},\n",
       "  {'source': {'id': None, 'name': 'Gizmodo.com'},\n",
       "   'author': 'Molly Taft',\n",
       "   'title': 'Mining Bitcoin Using Nuclear Power May Be Fine, Actually',\n",
       "   'description': 'Last week, the Wall Street Journal ran a piece on three recent nuclear-bitcoin deals that may signal a growing trend in the industry. The Journal piece reflects a small but growing sense of excitement expressed by some crypto fans—including Miami mayor and bi…',\n",
       "   'url': 'https://gizmodo.com/mining-bitcoin-using-nuclear-power-may-be-fine-actuall-1847825102',\n",
       "   'urlToImage': 'https://i.kinja-img.com/gawker-media/image/upload/c_fill,f_auto,fl_progressive,g_center,h_675,pg_1,q_80,w_1200/3cd3ec5c1c48d6ad49a659ab76b82e02.jpg',\n",
       "   'publishedAt': '2021-10-08T16:35:00Z',\n",
       "   'content': 'Last week, the Wall Street Journal ran a piece on three recent nuclear-bitcoin deals that may signal a growing trend in the industry. The Journal piece reflects a small but growing sense of excitemen… [+9512 chars]'},\n",
       "  {'source': {'id': None, 'name': 'Blogspot.com'},\n",
       "   'author': 'noreply@blogger.com (Unknown)',\n",
       "   'title': 'Twitter will allow people to tip their favorite content creators with bitcoin',\n",
       "   'description': 'Twitter will now allow people to tip their favorite content creators with bitcoin and will also launch a fund to pay some users who host audio chat rooms on its Spaces feature, the company said on Thursday.The company also said it will test new ways to help u…',\n",
       "   'url': 'https://techncruncher.blogspot.com/2021/09/twitter-will-allow-people-to-tip-their.html',\n",
       "   'urlToImage': 'https://lh3.googleusercontent.com/proxy/1YJtFF25zSUEDnZG0KffEqRkuld5BSehiyo-0FWiRJNwu6PBJ8Jc8KnXmLXpRfQblZibb-LrRCic9IQeEo1h_fRS2NM=w1200-h630-n-k-no-nu',\n",
       "   'publishedAt': '2021-09-24T12:14:00Z',\n",
       "   'content': 'Twitter will now allow people to tip their favorite content creators with bitcoin and will also launch a fund to pay some users who host audio chat rooms on its Spaces feature, the company said on Th… [+2802 chars]'},\n",
       "  {'source': {'id': 'bbc-news', 'name': 'BBC News'},\n",
       "   'author': 'https://www.facebook.com/bbcnews',\n",
       "   'title': 'Bitcoin protests in El Salvador against cryptocurrency as legal tender',\n",
       "   'description': 'The demonstrators burn Bitcoin machines, a week after the cryptocurrency became legal tender.',\n",
       "   'url': 'https://www.bbc.co.uk/news/world-latin-america-58579415',\n",
       "   'urlToImage': 'https://ichef.bbci.co.uk/news/1024/branded_news/7CA4/production/_120580913_gettyimages-1235276291.jpg',\n",
       "   'publishedAt': '2021-09-16T00:55:53Z',\n",
       "   'content': 'image captionProtesters held signs reading \"no to Bitcoin\"\\r\\nThousands of protesters have taken to the streets in El Salvador, angry at the introduction of Bitcoin as its legal tender.\\r\\nPresident Nayi… [+1352 chars]'},\n",
       "  {'source': {'id': None, 'name': 'Gizmodo.com'},\n",
       "   'author': 'Shoshana Wodinsky',\n",
       "   'title': 'Bitcoin Bros and Nuclear Bros Have Found Common Cause',\n",
       "   'description': 'Cryptocurrency mining is a wildly energy-intensive endeavor that doesn’t only pump out more carbon emissions than some small countries, but is quickly racking up a small mountain range’s worth of electronic waste. Read more...',\n",
       "   'url': 'https://gizmodo.com/bitcoin-bros-and-nuclear-bros-have-found-common-cause-1847753537',\n",
       "   'urlToImage': 'https://i.kinja-img.com/gawker-media/image/upload/c_fill,f_auto,fl_progressive,g_center,h_675,pg_1,q_80,w_1200/5c22a9aedc33f826f84934ea6a41d67c.jpg',\n",
       "   'publishedAt': '2021-09-27T21:40:00Z',\n",
       "   'content': 'Cryptocurrency mining is awildlyenergy-intensive endeavor that doesnt only pump out more carbon emissions than some small countries, but is quickly racking up a small mountain ranges worth of electro… [+2719 chars]'},\n",
       "  {'source': {'id': None, 'name': 'Blogspot.com'},\n",
       "   'author': 'noreply@blogger.com (Unknown)',\n",
       "   'title': None,\n",
       "   'description': 'PayPal has two decades of experience in online payments and manages 403 million user accounts. So, it caused ripples when it announced on 23 August it would allow UK customers to buy and sell four cryptocurrencies: bitcoin prices rose to a three-month high. B…',\n",
       "   'url': 'https://techncruncher.blogspot.com/2021/09/paypal-has-two-decades-of-experience-in.html',\n",
       "   'urlToImage': 'https://blogger.googleusercontent.com/img/a/AVvXsEhBa3NzNDTA2Zt8VB-9At9FSPpDIT_DhB17F3Jj5kQB-dYwDGVSL86_0t2nNFHv187uxCQkPt5GHwuiVtCKJKHfqI1RBqHh7to6zn8dmf_WZNlRpQnsvWEzImMQ9mXTisx6U822KEzpAGayi8YoC9Qsaos5pvLzgF_HVSzWBfRDMgFWPnCEBa0GKUM-GA=w1200-h630-p-k-no-nu',\n",
       "   'publishedAt': '2021-09-28T20:04:00Z',\n",
       "   'content': 'PayPal has two decades of experience in online payments and manages 403 million user accounts. So, it caused ripples when it announced on 23 August it would allow UK customers to buy and sell four cr… [+3680 chars]'},\n",
       "  {'source': {'id': None, 'name': 'Blogspot.com'},\n",
       "   'author': 'noreply@blogger.com (Unknown)',\n",
       "   'title': 'SEC Chair Dodges Question About Regulatory Status of Bitcoin and Ether',\n",
       "   'description': 'The SEC boss remains mum about the regulatory status of the two largest cryptocurrenciesfrom U.Today https://ift.tt/3Af9H2O https://ift.tt/eA8V8J',\n",
       "   'url': 'https://techncruncher.blogspot.com/2021/10/sec-chair-dodges-question-about.html',\n",
       "   'urlToImage': None,\n",
       "   'publishedAt': '2021-10-05T20:49:00Z',\n",
       "   'content': 'The SEC boss remains mum about the regulatory status of the two largest cryptocurrenciesfrom U.Today https://ift.tt/3Af9H2O https://ift.tt/eA8V8J'},\n",
       "  {'source': {'id': None, 'name': 'Blogspot.com'},\n",
       "   'author': 'noreply@blogger.com (Unknown)',\n",
       "   'title': 'IMF Head Says Central Bank Digital Currencies Are Reliable, Hard to Think of Bitcoin as Money',\n",
       "   'description': 'Digital currencies backed by central banks are the most reliable form of digital money, according to IMF managing director Kristalina Georgieva. At the same time, to think of cryptocurrencies such as bitcoin as money is difficult, believes the chief executive…',\n",
       "   'url': 'https://techncruncher.blogspot.com/2021/10/imf-head-says-central-bank-digital.html',\n",
       "   'urlToImage': 'https://blogger.googleusercontent.com/img/a/AVvXsEiXlCRA_UbzC-SYoJvcZ0FDmKyU1gg4tYoqZujE3S0M97uSwzeU3lozMz8_kXZysCa7VM_uc5T0Af1iZKwy3b5UlKNMliJ7ZnxrpONB3Pysz4zipt5vf1EGZidz_i2un_omh2aJ7ZQVCfqNr6D-lE31HNCIKXM7cof3ph2imr3uaLkwm4z3fG3E-smk_w=w1200-h630-p-k-no-nu',\n",
       "   'publishedAt': '2021-10-06T17:39:00Z',\n",
       "   'content': 'Digital currencies backed by central banks are the most reliable form of digital money, according to IMF managing director Kristalina Georgieva. At the same time, to think of cryptocurrencies such as… [+2917 chars]'},\n",
       "  {'source': {'id': None, 'name': 'Blogspot.com'},\n",
       "   'author': 'noreply@blogger.com (Unknown)',\n",
       "   'title': 'Tesla CEO Elon Musk says U.S. government should avoid regulating crypto',\n",
       "   'description': 'Tesla CEO Elon Musk on Tuesday said the U.S. government should steer clear of trying to regulate the crypto market.“It is not possible to, I think, destroy crypto, but it is possible for governments to slow down its advancement,” Musk said at the Code Confere…',\n",
       "   'url': 'https://techncruncher.blogspot.com/2021/09/tesla-ceo-elon-musk-on-tuesday-said-u.html',\n",
       "   'urlToImage': 'https://blogger.googleusercontent.com/img/a/AVvXsEjrlb5X_AFKIugDMdmlPhzACSYxnhwo2YXP8SkWhgJ_JpICMwUEgkH9giAJEaTEnVQUP7TzEC_YITQHtFSM6GEWExkbaPAOKUN2Z1SMgRHXIiBQ-Fv3s_NTaDinlsUEIQN2NdG_cw-iOAMvUEeAUGwgb049yuIBDsigkR4dCWtZkepl9V-6Tg38LRp60A=w1200-h630-p-k-no-nu',\n",
       "   'publishedAt': '2021-09-29T13:00:00Z',\n",
       "   'content': 'Tesla CEO Elon Musk on Tuesday said the U.S. government should steer clear of trying to regulate the crypto market.“It is not possible to, I think, destroy crypto, but it is possible for governments … [+1892 chars]'},\n",
       "  {'source': {'id': None, 'name': 'Gizmodo.com'},\n",
       "   'author': 'Whitney Kimball',\n",
       "   'title': 'A Bitcoin Mining Operation Started a Secret Power Plant, It Did Not Go as Planned',\n",
       "   'description': 'A There Will Be Blood-style drama unfolds in Canada, where a Bitcoin mining operation illegally tapped an unused natural gas well near a wealthy neighborhood in Alberta. The company Link Global might have gotten away with pilfering gas, if not for noise compl…',\n",
       "   'url': 'https://gizmodo.com/a-bitcoin-mining-operation-started-a-secret-power-plant-1847811718',\n",
       "   'urlToImage': 'https://i.kinja-img.com/gawker-media/image/upload/c_fill,f_auto,fl_progressive,g_center,h_675,pg_1,q_80,w_1200/7c2308365fbde2aacd00611609b7f19d.jpg',\n",
       "   'publishedAt': '2021-10-06T19:40:00Z',\n",
       "   'content': 'A There Will Be Blood-style drama unfolds in Canada, where a Bitcoin mining operation illegally tapped an unused natural gas well near a wealthy neighborhood in Alberta. The company Link Global might… [+2770 chars]'},\n",
       "  {'source': {'id': 'ars-technica', 'name': 'Ars Technica'},\n",
       "   'author': 'Tim De Chant',\n",
       "   'title': 'Old coal plant is now mining bitcoin for a utility company',\n",
       "   'description': 'Bitcoin is breathing new life into another ailing power plant.',\n",
       "   'url': 'https://arstechnica.com/tech-policy/2021/09/old-coal-plant-is-now-mining-bitcoin-for-a-utility-company/',\n",
       "   'urlToImage': 'https://cdn.arstechnica.net/wp-content/uploads/2018/01/bitcoin-lightning-760x380.jpg',\n",
       "   'publishedAt': '2021-09-24T20:30:09Z',\n",
       "   'content': '19 with 16 posters participating\\r\\nBitcoins massive power consumption is the cryptocurrencys dirty secret. To mine bitcoin, computers across the globe chew through enough electricity to power a medium… [+3500 chars]'},\n",
       "  {'source': {'id': 'business-insider', 'name': 'Business Insider'},\n",
       "   'author': 'ilee@insider.com (Isabelle Lee)',\n",
       "   'title': 'The SEC could approve as many as 4 bitcoin futures ETFs in October',\n",
       "   'description': 'Unlike bitcoin ETFs, SEC Chair Gary Gensler has expressed more openness towards bitcoin futures ETF.',\n",
       "   'url': 'https://markets.businessinsider.com/news/currencies/bitcoin-futures-etf-cryptocurrency-sec-exchange-traded-fund-gary-gensler-2021-10',\n",
       "   'urlToImage': 'https://images2.markets.businessinsider.com/616039325ae4fe0018a70e50?format=jpeg',\n",
       "   'publishedAt': '2021-10-08T13:19:51Z',\n",
       "   'content': 'Securities and Exchange Commission headquarters.\\r\\nREUTERS/Andrew Kelly\\r\\nThe US Securities and Exchange Commission could approve as many as four bitcoin futures exchange-traded funds in October, in wh… [+1732 chars]'}]}"
      ]
     },
     "execution_count": 129,
     "metadata": {},
     "output_type": "execute_result"
    }
   ],
   "source": [
    "# Fetch the Bitcoin news articles\n",
    "bitcoin = newsapi.get_everything(q='Bitcoin', language=\"en\")\n",
    "bitcoin"
   ]
  },
  {
   "cell_type": "code",
   "execution_count": 130,
   "metadata": {},
   "outputs": [
    {
     "data": {
      "text/plain": [
       "{'status': 'ok',\n",
       " 'totalResults': 2672,\n",
       " 'articles': [{'source': {'id': 'the-verge', 'name': 'The Verge'},\n",
       "   'author': 'Kim Lyons',\n",
       "   'title': 'China’s central bank bans cryptocurrency transactions to avoid ‘risks’',\n",
       "   'description': 'China’s central bank on Friday said cryptocurrency transactions in the country are illegal, banning all transactions. It said cryptocurrencies like bitcoin and Ethereum are not legal tender and can’t be circulated.',\n",
       "   'url': 'https://www.theverge.com/2021/9/24/22691472/china-central-bank-cryptocurrency-illegal-bitcoin',\n",
       "   'urlToImage': 'https://cdn.vox-cdn.com/thumbor/mde_l3lUC4muDPEFG7LYrUz0O3g=/0x146:2040x1214/fit-in/1200x630/cdn.vox-cdn.com/uploads/chorus_asset/file/8921023/acastro_bitcoin_2.jpg',\n",
       "   'publishedAt': '2021-09-24T16:22:55Z',\n",
       "   'content': 'Its the countrys latest crackdown on digital currencies\\r\\nIllustration by Alex Castro / The Verge\\r\\nThe Peoples Bank of China, the countrys central bank, said Friday that cryptocurrency transactions ar… [+1461 chars]'},\n",
       "  {'source': {'id': 'engadget', 'name': 'Engadget'},\n",
       "   'author': 'Jon Fingas',\n",
       "   'title': 'AMC theaters will accept cryptocurrencies beyond Bitcoin',\n",
       "   'description': \"You won't have to stick to Bitcoin if you're determined to pay for your movie ticket with cryptocurrency. AMC chief Adam Aron has revealed his theater chain will also accept Ethereum, Litecoin and Bitcoin Cash when crypto payments are available. He didn't hav…\",\n",
       "   'url': 'https://www.engadget.com/amc-theaters-accept-ethereum-litecoin-bitcoin-cash-132642183.html',\n",
       "   'urlToImage': 'https://s.yimg.com/os/creatr-uploaded-images/2021-09/4a01cb80-16eb-11ec-abfe-c7b840dd48ca',\n",
       "   'publishedAt': '2021-09-16T13:26:42Z',\n",
       "   'content': \"You won't have to stick to Bitcoin if you're determined to pay for your movie ticket with cryptocurrency. AMC chief Adam Aron has revealed his theater chain will also accept Ethereum, Litecoin and Bi… [+1198 chars]\"},\n",
       "  {'source': {'id': 'engadget', 'name': 'Engadget'},\n",
       "   'author': 'Jon Fingas',\n",
       "   'title': 'OpenSea product lead resigns over use of insider NFT info for purchases',\n",
       "   'description': \"OpenSea isn't wasting much time after its head of product was accused of exploiting insider information to turn a profit on non-fungible tokens. The marketplace has asked for and accepted Nate Chastain's resignation following claims he used secret Ethereum wa…\",\n",
       "   'url': 'https://www.engadget.com/opensea-nft-insider-trader-resigns-190502174.html',\n",
       "   'urlToImage': 'https://s.yimg.com/os/creatr-uploaded-images/2021-09/2d0bd7f0-124f-11ec-9d5b-406f59cf7dbc',\n",
       "   'publishedAt': '2021-09-16T19:05:02Z',\n",
       "   'content': \"OpenSea isn't wasting much time after its head of product was accused of exploiting insider information to turn a profit on non-fungible tokens. The marketplace has asked for and accepted Nate Chasta… [+924 chars]\"},\n",
       "  {'source': {'id': 'engadget', 'name': 'Engadget'},\n",
       "   'author': 'Igor Bonifacic',\n",
       "   'title': 'Robinhood will start testing crypto wallets next month',\n",
       "   'description': 'Robinhood plans to start a cryptocurrency wallet next month, the company announced on Wednesday. The tool will allow you to send and receive digital currencies, as well as trade them and move them off the app. If you want to take part in the test, you’ll need…',\n",
       "   'url': 'https://www.engadget.com/robinhood-cryptocurrency-wallet-test-october-190030675.html',\n",
       "   'urlToImage': 'https://s.yimg.com/os/creatr-uploaded-images/2021-09/5035fef0-1bd6-11ec-b7e5-a610838e0b98',\n",
       "   'publishedAt': '2021-09-22T19:00:30Z',\n",
       "   'content': 'Robinhood plans to start a cryptocurrency wallet next month, the company announced on Wednesday. The tool will allow you to send and receive digital currencies, as well as trade them and move them of… [+1090 chars]'},\n",
       "  {'source': {'id': 'bbc-news', 'name': 'BBC News'},\n",
       "   'author': 'https://www.facebook.com/bbcnews',\n",
       "   'title': \"Music company buys NFT of 'Side-eyeing Chloe' meme\",\n",
       "   'description': 'The image of two-year-old Chloe Clem making a disapproving face was auctioned in cryptocurrency.',\n",
       "   'url': 'https://www.bbc.co.uk/news/world-us-canada-58687070',\n",
       "   'urlToImage': 'https://ichef.bbci.co.uk/news/1024/branded_news/5C36/production/_120660632_thumbnail_chloesideeye_clean.jpg',\n",
       "   'publishedAt': '2021-09-25T04:30:25Z',\n",
       "   'content': \"image source, foundation.app/@SideEyeingChloe\\r\\nimage captionChloe Clem's disapproving look has become an internet sensation\\r\\nAn image of a popular internet meme, featuring a two-year-old girl, has be… [+2490 chars]\"},\n",
       "  {'source': {'id': None, 'name': 'Blogspot.com'},\n",
       "   'author': 'noreply@blogger.com (Unknown)',\n",
       "   'title': 'Sorare raises $680 million for its fantasy sports NFT game',\n",
       "   'description': \"image credit:SorareFrench startup Sorare has announced that it has raised a significant funding round. SoftBank's Vision Fund 2 has led a $680 million Series B round, which values the company at $4.3 billion.Sorare has built a fantasty football (soccer) platf…\",\n",
       "   'url': 'https://techncruncher.blogspot.com/2021/09/sorare-raises-680-million-for-its.html',\n",
       "   'urlToImage': 'https://1.bp.blogspot.com/-bTziBZzy_tw/YUmiF2DDlXI/AAAAAAAAAUc/n3pjDV13R0khZPMBtEcen2lGMAoA-KiqwCLcBGAsYHQ/w1200-h630-p-k-no-nu/A_N_1.jpg',\n",
       "   'publishedAt': '2021-09-21T04:14:00Z',\n",
       "   'content': \"image credit:Sorare\\r\\nFrench startup Sorare has announced that it has raised a significant funding round. SoftBank's Vision Fund 2 has led a $680 million Series B round, which values the company at $4… [+2917 chars]\"},\n",
       "  {'source': {'id': 'business-insider', 'name': 'Business Insider'},\n",
       "   'author': 'hrobertson@businessinsider.com (Harry Robertson)',\n",
       "   'title': \"Vitalik Buterin created a 'fellowship of the ring' to build ethereum. But the founders have a history of feuds and are now competing for crypto dominance.\",\n",
       "   'description': 'Vitalik Buterin has said one of his biggest regrets was \"nondiscriminately\" choosing seven other founders to help him build ethereum.',\n",
       "   'url': 'https://markets.businessinsider.com/news/stocks/ethereum-eth-cofounders-vitalik-buterin-cardano-charles-hoskinson-gavin-wood-2021-9',\n",
       "   'urlToImage': 'https://images2.markets.businessinsider.com/614490f22257350018f7512c?format=jpeg',\n",
       "   'publishedAt': '2021-09-19T10:00:00Z',\n",
       "   'content': 'Vitalik Buterin\\r\\nVitalik Buterin dreamed up ethereum in 2013.\\r\\nGetty Images/John Phillips\\r\\nVitalik Buterin has compared the eight founders of the ethereum blockchain to JRR Tolkien\\'s close-knit \"fell… [+5139 chars]'},\n",
       "  {'source': {'id': 'business-insider', 'name': 'Business Insider'},\n",
       "   'author': 'cshumba@insider.com (Camomile Shumba)',\n",
       "   'title': \"Cardano founder Charles Hoskinson says the crypto world needs 'that wi-fi moment' - where users can work with any blockchain seamlessly - more than it needs a dominant network\",\n",
       "   'description': 'Charles Hoskinson doesn\\'t believe any blockchain will be dominant in the years to come, even so-called \"ethereum killers\" like cardano.',\n",
       "   'url': 'https://markets.businessinsider.com/news/currencies/cardano-smart-contracts-charles-hoskinson-blockchains-alonzo-polkadot-ethereum-2021-9',\n",
       "   'urlToImage': 'https://images2.markets.businessinsider.com/613f701f261771001825d1ea?format=jpeg',\n",
       "   'publishedAt': '2021-09-14T07:07:25Z',\n",
       "   'content': 'Cardano ada\\r\\nSOPA images\\r\\nThe cardano network took a step closer this past weekend to competing more fiercely with the larger ethereum network, after a key upgrade meant it could host decentralized f… [+2036 chars]'},\n",
       "  {'source': {'id': None, 'name': 'Entrepreneur'},\n",
       "   'author': 'Entrepreneur Store',\n",
       "   'title': 'Explore the Modern World of Cryptocurrency',\n",
       "   'description': 'Start with the basics, then learn how to build your own projects as an Ethereum blockchain developer.',\n",
       "   'url': 'https://www.entrepreneur.com/article/386641',\n",
       "   'urlToImage': 'https://assets.entrepreneur.com/content/3x2/2000/1632174590-Ent-BuildYourCrypto.jpg',\n",
       "   'publishedAt': '2021-09-22T17:30:00Z',\n",
       "   'content': \"The world is slowly but surely making a shift toward\\xa0normalizing cryptocurrency. Sure, maybe retail giants like Walmart haven't quite bought in, but the nation of El Salvador has made Bitcoin its off… [+1731 chars]\"},\n",
       "  {'source': {'id': 'business-insider', 'name': 'Business Insider'},\n",
       "   'author': 'snagarajan@businessinsider.com (Shalini Nagarajan)',\n",
       "   'title': 'Elizabeth Warren takes aim at high ethereum network fees that she says could wipe out small investors',\n",
       "   'description': 'The senator criticized the high fees imposed on ethereum to secure transactions during heightened volatility, saying investors could get jammed.',\n",
       "   'url': 'https://markets.businessinsider.com/news/currencies/elizabeth-warren-ethereum-network-fees-high-wipe-out-small-investors-2021-9',\n",
       "   'urlToImage': 'https://images2.markets.businessinsider.com/60f727715663b300113b0e06?format=jpeg',\n",
       "   'publishedAt': '2021-09-15T15:04:06Z',\n",
       "   'content': \"Sen. Elizabeth Warren.\\r\\nGREG NASH/POOL/AFP via Getty Images\\r\\nSen. Elizabeth Warren has criticized the high fees on ethereum's network during heightened trading volatility, arguing they could substant… [+2416 chars]\"},\n",
       "  {'source': {'id': 'reuters', 'name': 'Reuters'},\n",
       "   'author': None,\n",
       "   'title': 'AMC CEO says theaters will accept other cryptocurrencies along with Bitcoin- Tweet - Reuters',\n",
       "   'description': 'AMC Entertainment <a href=\"https://www.reuters.com/companies/AMC.N\" target=\"_blank\">(AMC.N)</a> CEO Adam Aron said on Wednesday AMC Theatres will accept Bitcoin for online ticket and concession payments, and similarly accept other cryptocurrencies like Ethere…',\n",
       "   'url': 'https://www.reuters.com/business/amc-ceo-says-theaters-will-accept-other-cryptocurrencies-along-with-bitcoin-2021-09-16/',\n",
       "   'urlToImage': 'https://www.reuters.com/resizer/Muta2dqDbFvfkI25GuCPOyDugfs=/1200x628/smart/filters:quality(80)/cloudfront-us-east-2.images.arcpublishing.com/reuters/XTJXYQEFBZNQZKEMITGI4LWTRM.jpg',\n",
       "   'publishedAt': '2021-09-16T02:12:00Z',\n",
       "   'content': 'A representation of cryptocurrency Bitcoin is seen in this illustration taken August 6, 2021. REUTERS/Dado Ruvic/Illustration/File PhotoSept 15 (Reuters) - AMC Entertainment (AMC.N) CEO Adam Aron sai… [+596 chars]'},\n",
       "  {'source': {'id': 'business-insider', 'name': 'Business Insider'},\n",
       "   'author': 'ilee@insider.com (Isabelle Lee)',\n",
       "   'title': 'FTX launches US marketplace for solana NFTs with plans to expand to ethereum-based tokens',\n",
       "   'description': 'FTX also plans to roll out support for ethereum-based NFTs to compete with OpenSea, among others. The marketplace is only available to US customers.',\n",
       "   'url': 'https://markets.businessinsider.com/news/currencies/ftx-crypto-nft-solana-based-ethereum-trading-marketplace-launch-token-2021-10',\n",
       "   'urlToImage': 'https://images2.markets.businessinsider.com/616493242457a4001982cb21?format=jpeg',\n",
       "   'publishedAt': '2021-10-11T20:28:44Z',\n",
       "   'content': 'An immersive art installation, which will be converted into NFTs in Hong Kong, September 30, 2021.\\r\\nREUTERS/Tyrone Siu/File Photo\\r\\nFTX.US, an affiliate of cryptocurrency exchange FTX, is launching an… [+2138 chars]'},\n",
       "  {'source': {'id': 'business-insider', 'name': 'Business Insider'},\n",
       "   'author': 'hrobertson@businessinsider.com (Harry Robertson)',\n",
       "   'title': \"Ethereum cofounder Vitalik Buterin joins Joe Biden and Billie Eilish on Time's 100 most influential people list\",\n",
       "   'description': 'Vitalik Buterin, who came up with ethereum in 2013, appears on the famous list in a sign of the growing power of cryptocurrencies.',\n",
       "   'url': 'https://markets.businessinsider.com/news/currencies/ethereum-crypto-vitalik-buterin-time-100-most-influential-founder-2021-9',\n",
       "   'urlToImage': 'https://images2.markets.businessinsider.com/61431b25f0cb130019e90818?format=jpeg',\n",
       "   'publishedAt': '2021-09-16T10:40:02Z',\n",
       "   'content': \"Vitalik Buterin launched ethereum in 2015.\\r\\nJohn Phillips/Getty Images for TechCrunch\\r\\nEthereum cofounder Vitalik Buterin has been named on Time magazine's prestigious list of the world's 100 most in… [+1792 chars]\"},\n",
       "  {'source': {'id': 'business-insider', 'name': 'Business Insider'},\n",
       "   'author': 'ilee@insider.com (Isabelle Lee)',\n",
       "   'title': 'Coinbase plans to launch its own NFT marketplace by the end of the year as it rides digital asset boom',\n",
       "   'description': 'The initial launch will support ethereum-based ERC-721 and ERC-1155 standards with plans to roll out multichain support after.',\n",
       "   'url': 'https://markets.businessinsider.com/news/currencies/coinbase-nft-marketplace-cryptocurrency-ethereum-solana-digital-asset-token-ftx-2021-10',\n",
       "   'urlToImage': 'https://images2.markets.businessinsider.com/6165933b991f6b0018655430?format=jpeg',\n",
       "   'publishedAt': '2021-10-12T17:00:00Z',\n",
       "   'content': 'Coinbase NFT\\r\\nRobert Nickelsberg/Getty Images\\r\\nCoinbase Global is joining the NFT bandwagon by launching its own marketplace by the end of the year.\\r\\nThe largest cryptocurrency exchange in the US on … [+2112 chars]'},\n",
       "  {'source': {'id': None, 'name': 'Entrepreneur'},\n",
       "   'author': 'Mervik Haums',\n",
       "   'title': 'Next-Generation Layer-One Blockchain Protocols Remove the Financial Barriers to DeFi and NFTs',\n",
       "   'description': 'Layer-one smart-contract platforms offer a practical alternative to the high fees and slow transaction-confirmation times of Ethereum, making blockchain technology and DeFi accessible to all.',\n",
       "   'url': 'https://www.entrepreneur.com/article/384771',\n",
       "   'urlToImage': 'https://assets.entrepreneur.com/content/3x2/2000/1631638382-shutterstock-644464534.jpg',\n",
       "   'publishedAt': '2021-09-17T15:00:00Z',\n",
       "   'content': 'Blockchain technology has emerged as a revolutionary force for change on the global stage over the past decade as Bitcoin has risen from being shadowy internet money used by criminals to an accepted … [+6744 chars]'},\n",
       "  {'source': {'id': None, 'name': 'Slashdot.org'},\n",
       "   'author': 'BeauHD',\n",
       "   'title': 'AMC Theaters Will Accept Cryptocurrencies Other Than Bitcoin',\n",
       "   'description': 'In August, AMC Entertainment CEO Adam Aron said the company will start accepting bitcoin as payment for movie tickets and concessions at all of its U.S. theaters. Now, Aron says he expects the company to also accept Ethereum, Litecoin, and Bitcoin Cash. In a …',\n",
       "   'url': 'https://news.slashdot.org/story/21/09/16/2025216/amc-theaters-will-accept-cryptocurrencies-other-than-bitcoin',\n",
       "   'urlToImage': 'https://a.fsdn.com/sd/topics/bitcoin_64.png',\n",
       "   'publishedAt': '2021-09-16T22:40:00Z',\n",
       "   'content': 'At least it will take heat off the 10,000 bitcoin pizza guy\\r\\nhttps://nypost.com/2021/05/24/... [nypost.com]\\r\\n\"10,000 bitcoins, at the time reportedly valued at $41, in exchange for the delivery of tw… [+54 chars]'},\n",
       "  {'source': {'id': 'techcrunch', 'name': 'TechCrunch'},\n",
       "   'author': 'Amanda Silberling',\n",
       "   'title': 'OpenSea released an app — but it’s for browsing, not buying and selling',\n",
       "   'description': 'It’s a big day for the Amazon of the decentralized internet — OpenSea now has an app for iOS and Android. For most companies, having a mobile app is a milestone you’d reach before hitting a $1.5 billion valuation. But like any store — whether you’re selling N…',\n",
       "   'url': 'http://techcrunch.com/2021/09/17/opensea-released-an-app-but-its-for-browsing-not-buying-and-selling/',\n",
       "   'urlToImage': 'https://techcrunch.com/wp-content/uploads/2021/03/GettyImages-1297327343.jpg?w=600',\n",
       "   'publishedAt': '2021-09-17T19:44:55Z',\n",
       "   'content': 'It’s a big day for the Amazon of the decentralized internet — OpenSea now has an app for iOS and Android. For most companies, having a mobile app is a milestone you’d reach before hitting a $1.5 bill… [+2218 chars]'},\n",
       "  {'source': {'id': 'reuters', 'name': 'Reuters'},\n",
       "   'author': None,\n",
       "   'title': 'Cryptocurrencies post inflows for 7 straight weeks, led by bitcoin -CoinShares data - Reuters',\n",
       "   'description': 'Cryptocurrency investment products and funds recorded inflows for a seventh straight week, as institutional investors warmed to more supportive statements from regulators, data from digital asset manager CoinShares showed on Monday.',\n",
       "   'url': 'https://www.reuters.com/business/cryptocurrencies-post-inflows-7-straight-weeks-led-by-bitcoin-coinshares-data-2021-10-04/',\n",
       "   'urlToImage': 'https://www.reuters.com/resizer/KWeO_uzi4ZJF4eFmoN3S4unMEPM=/1200x628/smart/filters:quality(80)/cloudfront-us-east-2.images.arcpublishing.com/reuters/Y5DHY7VEKBJ2VISD6DEX577MQY.jpg',\n",
       "   'publishedAt': '2021-10-04T21:52:00Z',\n",
       "   'content': 'Representations of cryptocurrencies Bitcoin, Ethereum, DogeCoin, Ripple, Litecoin are placed on PC motherboard in this illustration taken, June 29, 2021. REUTERS/Dado Ruvic/IllustrationNEW YORK, Oct … [+2228 chars]'},\n",
       "  {'source': {'id': 'reuters', 'name': 'Reuters'},\n",
       "   'author': 'Reuters Staff',\n",
       "   'title': 'Bitcoin rises 9.5% to $47,980.97 - Reuters',\n",
       "   'description': 'Bitcoin was up 9.46% at $47,980.97 as of at 20:12 GMT on Friday, adding $4,146.54 to its previous close.',\n",
       "   'url': 'https://www.reuters.com/article/crypto-currency-bitcoin-idUSL4N2QX2V6',\n",
       "   'urlToImage': 'https://s1.reutersmedia.net/resources_v2/images/rcom-default.png?w=800',\n",
       "   'publishedAt': '2021-10-01T20:24:00Z',\n",
       "   'content': 'By Reuters Staff\\r\\nOct 1 (Reuters) - Bitcoin was up 9.46% at $47,980.97 as of at 20:12 GMT on Friday, adding $4,146.54 to its previous close.\\r\\nBitcoin, the worlds biggest and best-known cryptocurrency… [+239 chars]'},\n",
       "  {'source': {'id': None, 'name': 'Medium'},\n",
       "   'author': None,\n",
       "   'title': 'Ethereum Services Are Centralized',\n",
       "   'description': 'Read writing from Michael Gummelt on Medium. Building http://plato.io. Every day, Michael Gummelt and thousands of other voices read, write, and share important stories on Medium.',\n",
       "   'url': 'https://michaelgummelt.medium.com',\n",
       "   'urlToImage': 'https://miro.medium.com/max/2400/0*obMZJ8j5uO2O8f6u',\n",
       "   'publishedAt': '2021-10-12T19:20:02Z',\n",
       "   'content': 'Ive always been vexed by the question of how to validate a startup idea. While it may be the most well-worn topic in all of startup theory, theres still no consensus on the best way to figure out if … [+351 chars]'}]}"
      ]
     },
     "execution_count": 130,
     "metadata": {},
     "output_type": "execute_result"
    }
   ],
   "source": [
    "# Fetch the Ethereum news articles\n",
    "ethereum = newsapi.get_everything(q='Ethereum', language=\"en\")\n",
    "ethereum"
   ]
  },
  {
   "cell_type": "code",
   "execution_count": 131,
   "metadata": {},
   "outputs": [],
   "source": [
    "# Create the Bitcoin sentiment scores DataFrame\n"
   ]
  },
  {
   "cell_type": "code",
   "execution_count": 132,
   "metadata": {},
   "outputs": [],
   "source": [
    "# Create the Ethereum sentiment scores DataFrame\n"
   ]
  },
  {
   "cell_type": "code",
   "execution_count": 133,
   "metadata": {},
   "outputs": [],
   "source": [
    "# Describe the Bitcoin Sentiment\n"
   ]
  },
  {
   "cell_type": "code",
   "execution_count": 134,
   "metadata": {},
   "outputs": [],
   "source": [
    "# Describe the Ethereum Sentiment\n"
   ]
  },
  {
   "cell_type": "markdown",
   "metadata": {},
   "source": [
    "### Questions:\n",
    "\n",
    "Q: Which coin had the highest mean positive score?\n",
    "\n",
    "A: \n",
    "\n",
    "Q: Which coin had the highest compound score?\n",
    "\n",
    "A: \n",
    "\n",
    "Q. Which coin had the highest positive score?\n",
    "\n",
    "A: "
   ]
  },
  {
   "cell_type": "markdown",
   "metadata": {},
   "source": [
    "---"
   ]
  },
  {
   "cell_type": "markdown",
   "metadata": {},
   "source": [
    "## 2. Natural Language Processing\n",
    "---\n",
    "###   Tokenizer\n",
    "\n",
    "In this section, you will use NLTK and Python to tokenize the text for each coin. Be sure to:\n",
    "1. Lowercase each word.\n",
    "2. Remove Punctuation.\n",
    "3. Remove Stopwords."
   ]
  },
  {
   "cell_type": "code",
   "execution_count": 136,
   "metadata": {},
   "outputs": [
    {
     "name": "stderr",
     "output_type": "stream",
     "text": [
      "[nltk_data] Downloading package stopwords to\n",
      "[nltk_data]     /Users/mcmachine/nltk_data...\n",
      "[nltk_data]   Package stopwords is already up-to-date!\n",
      "[nltk_data] Downloading package punkt to /Users/mcmachine/nltk_data...\n",
      "[nltk_data]   Package punkt is already up-to-date!\n",
      "[nltk_data] Downloading package wordnet to\n",
      "[nltk_data]     /Users/mcmachine/nltk_data...\n",
      "[nltk_data]   Package wordnet is already up-to-date!\n"
     ]
    }
   ],
   "source": [
    "import nltk\n",
    "nltk.download('stopwords')\n",
    "nltk.download('punkt')\n",
    "nltk.download('wordnet')\n",
    "from nltk.tokenize import word_tokenize, sent_tokenize\n",
    "from nltk.corpus import stopwords\n",
    "from nltk.stem import WordNetLemmatizer, PorterStemmer\n",
    "from string import punctuation\n",
    "import re"
   ]
  },
  {
   "cell_type": "code",
   "execution_count": 137,
   "metadata": {},
   "outputs": [],
   "source": [
    "# Instantiate the lemmatizer\n"
   ]
  },
  {
   "cell_type": "code",
   "execution_count": 95,
   "metadata": {},
   "outputs": [],
   "source": [
    "# Create a list of stopwords\n"
   ]
  },
  {
   "cell_type": "code",
   "execution_count": 138,
   "metadata": {},
   "outputs": [],
   "source": [
    "# Expand the default stopwords list if necessary\n"
   ]
  },
  {
   "cell_type": "code",
   "execution_count": 99,
   "metadata": {},
   "outputs": [],
   "source": [
    "# Complete the tokenizer function"
   ]
  },
  {
   "cell_type": "code",
   "execution_count": null,
   "metadata": {},
   "outputs": [],
   "source": [
    "# Remove the punctuation from text"
   ]
  },
  {
   "cell_type": "code",
   "execution_count": null,
   "metadata": {},
   "outputs": [],
   "source": [
    "# Create a tokenized list of the words"
   ]
  },
  {
   "cell_type": "code",
   "execution_count": 102,
   "metadata": {},
   "outputs": [],
   "source": [
    "# Create a new tokens column for Bitcoin\n"
   ]
  },
  {
   "cell_type": "code",
   "execution_count": 104,
   "metadata": {},
   "outputs": [],
   "source": [
    "# Create a new tokens column for Ethereum\n"
   ]
  },
  {
   "cell_type": "markdown",
   "metadata": {},
   "source": [
    "---"
   ]
  },
  {
   "cell_type": "markdown",
   "metadata": {},
   "source": [
    "### NGrams and Frequency Analysis\n",
    "\n",
    "In this section you will look at the ngrams and word frequency for each coin. \n",
    "\n",
    "1. Use NLTK to produce the n-grams for N = 2. \n",
    "2. List the top 10 words for each coin. "
   ]
  },
  {
   "cell_type": "code",
   "execution_count": 106,
   "metadata": {},
   "outputs": [],
   "source": [
    "from collections import Counter\n",
    "from nltk import ngrams\n",
    "n = 2"
   ]
  },
  {
   "cell_type": "code",
   "execution_count": 139,
   "metadata": {},
   "outputs": [],
   "source": [
    "# Generate the Bitcoin N-grams where N=2\n"
   ]
  },
  {
   "cell_type": "code",
   "execution_count": 140,
   "metadata": {},
   "outputs": [],
   "source": [
    "# Generate the Ethereum N-grams where N=2\n"
   ]
  },
  {
   "cell_type": "code",
   "execution_count": 141,
   "metadata": {},
   "outputs": [],
   "source": [
    "# Function token_count generates the top 10 words for a given coin\n"
   ]
  },
  {
   "cell_type": "code",
   "execution_count": 142,
   "metadata": {},
   "outputs": [],
   "source": [
    "# Use token_count to get the top 10 words for Bitcoin\n"
   ]
  },
  {
   "cell_type": "code",
   "execution_count": 143,
   "metadata": {},
   "outputs": [],
   "source": [
    "# Use token_count to get the top 10 words for Ethereum\n"
   ]
  },
  {
   "cell_type": "markdown",
   "metadata": {},
   "source": [
    "---"
   ]
  },
  {
   "cell_type": "markdown",
   "metadata": {},
   "source": [
    "### Word Clouds\n",
    "\n",
    "In this section, you will generate word clouds for each coin to summarize the news for each coin"
   ]
  },
  {
   "cell_type": "code",
   "execution_count": 144,
   "metadata": {},
   "outputs": [],
   "source": [
    "from wordcloud import WordCloud\n",
    "import matplotlib.pyplot as plt\n",
    "plt.style.use('seaborn-whitegrid')\n",
    "import matplotlib as mpl\n",
    "mpl.rcParams['figure.figsize'] = [20.0, 10.0]"
   ]
  },
  {
   "cell_type": "code",
   "execution_count": 146,
   "metadata": {},
   "outputs": [],
   "source": [
    "# Generate the Bitcoin word cloud\n"
   ]
  },
  {
   "cell_type": "code",
   "execution_count": 147,
   "metadata": {},
   "outputs": [],
   "source": [
    "# Generate the Ethereum word cloud\n"
   ]
  },
  {
   "cell_type": "markdown",
   "metadata": {},
   "source": [
    "---\n",
    "## 3. Named Entity Recognition\n",
    "\n",
    "In this section, you will build a named entity recognition model for both Bitcoin and Ethereum, then visualize the tags using SpaCy."
   ]
  },
  {
   "cell_type": "code",
   "execution_count": 148,
   "metadata": {},
   "outputs": [],
   "source": [
    "import spacy\n",
    "from spacy import displacy"
   ]
  },
  {
   "cell_type": "code",
   "execution_count": 149,
   "metadata": {},
   "outputs": [],
   "source": [
    "# Download the language model for SpaCy\n",
    "# !python -m spacy download en_core_web_sm"
   ]
  },
  {
   "cell_type": "code",
   "execution_count": 150,
   "metadata": {},
   "outputs": [],
   "source": [
    "# Load the spaCy model\n"
   ]
  },
  {
   "cell_type": "markdown",
   "metadata": {},
   "source": [
    "---\n",
    "### Bitcoin NER"
   ]
  },
  {
   "cell_type": "code",
   "execution_count": 152,
   "metadata": {},
   "outputs": [],
   "source": [
    "# Concatenate all of the Bitcoin text together\n",
    "# Run the NER processor on all of the text\n",
    "# Add a title to the document\n",
    "# Render the visualization\n"
   ]
  },
  {
   "cell_type": "code",
   "execution_count": 151,
   "metadata": {},
   "outputs": [],
   "source": [
    "# List all Entities\n"
   ]
  },
  {
   "cell_type": "markdown",
   "metadata": {},
   "source": [
    "---"
   ]
  },
  {
   "cell_type": "markdown",
   "metadata": {},
   "source": [
    "### Ethereum NER"
   ]
  },
  {
   "cell_type": "code",
   "execution_count": 153,
   "metadata": {},
   "outputs": [],
   "source": [
    "# Concatenate all of the Etherum text together\n",
    "# Run the NER processor on all of the text\n",
    "# Add a title to the document\n",
    "# Render the visualization\n"
   ]
  },
  {
   "cell_type": "markdown",
   "metadata": {},
   "source": [
    "---"
   ]
  }
 ],
 "metadata": {
  "file_extension": ".py",
  "kernelspec": {
   "display_name": "Python [conda env:dev]",
   "language": "python",
   "name": "conda-env-dev-py"
  },
  "language_info": {
   "codemirror_mode": {
    "name": "ipython",
    "version": 3
   },
   "file_extension": ".py",
   "mimetype": "text/x-python",
   "name": "python",
   "nbconvert_exporter": "python",
   "pygments_lexer": "ipython3",
   "version": "3.7.10"
  },
  "mimetype": "text/x-python",
  "name": "python",
  "npconvert_exporter": "python",
  "pygments_lexer": "ipython3",
  "version": 3
 },
 "nbformat": 4,
 "nbformat_minor": 4
}
