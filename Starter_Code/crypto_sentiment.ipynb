{
 "cells": [
  {
   "cell_type": "markdown",
   "metadata": {},
   "source": [
    "# Unit 12 - Tales from the Crypto\n",
    "\n",
    "---\n"
   ]
  },
  {
   "cell_type": "markdown",
   "metadata": {},
   "source": [
    "## 1. Sentiment Analysis\n",
    "\n",
    "Use the [newsapi](https://newsapi.org/) to pull the latest news articles for Bitcoin and Ethereum and create a DataFrame of sentiment scores for each coin.\n",
    "\n",
    "Use descriptive statistics to answer the following questions:\n",
    "1. Which coin had the highest mean positive score?\n",
    "2. Which coin had the highest negative score?\n",
    "3. Which coin had the highest positive score?"
   ]
  },
  {
   "cell_type": "code",
   "execution_count": 2,
   "metadata": {},
   "outputs": [],
   "source": [
    "# pip install newsapi-python"
   ]
  },
  {
   "cell_type": "code",
   "execution_count": 3,
   "metadata": {},
   "outputs": [
    {
     "name": "stderr",
     "output_type": "stream",
     "text": [
      "[nltk_data] Downloading package vader_lexicon to\n",
      "[nltk_data]     /Users/mcmachine/nltk_data...\n",
      "[nltk_data]   Package vader_lexicon is already up-to-date!\n"
     ]
    }
   ],
   "source": [
    "# Initial imports\n",
    "import os\n",
    "import pandas as pd\n",
    "from dotenv import load_dotenv\n",
    "import nltk as nltk\n",
    "nltk.download('vader_lexicon')\n",
    "from nltk.sentiment.vader import SentimentIntensityAnalyzer\n",
    "analyzer = SentimentIntensityAnalyzer()\n",
    "\n",
    "%matplotlib inline"
   ]
  },
  {
   "cell_type": "code",
   "execution_count": 4,
   "metadata": {},
   "outputs": [],
   "source": [
    "# Read your api key environment variable\n",
    "\n",
    "load_dotenv()\n",
    "news_api = os.getenv(\"NEWS_API_KEY\")\n",
    "#print(news_api)"
   ]
  },
  {
   "cell_type": "code",
   "execution_count": 6,
   "metadata": {},
   "outputs": [],
   "source": [
    "# Create a newsapi client\n",
    "\n",
    "from newsapi import NewsApiClient\n",
    "newsapi = NewsApiClient(news_api)"
   ]
  },
  {
   "cell_type": "code",
   "execution_count": 8,
   "metadata": {},
   "outputs": [
    {
     "data": {
      "text/plain": [
       "{'status': 'ok',\n",
       " 'totalResults': 6981,\n",
       " 'articles': [{'source': {'id': 'engadget', 'name': 'Engadget'},\n",
       "   'author': 'Jon Fingas',\n",
       "   'title': 'AMC theaters will accept cryptocurrencies beyond Bitcoin',\n",
       "   'description': \"You won't have to stick to Bitcoin if you're determined to pay for your movie ticket with cryptocurrency. AMC chief Adam Aron has revealed his theater chain will also accept Ethereum, Litecoin and Bitcoin Cash when crypto payments are available. He didn't hav…\",\n",
       "   'url': 'https://www.engadget.com/amc-theaters-accept-ethereum-litecoin-bitcoin-cash-132642183.html',\n",
       "   'urlToImage': 'https://s.yimg.com/os/creatr-uploaded-images/2021-09/4a01cb80-16eb-11ec-abfe-c7b840dd48ca',\n",
       "   'publishedAt': '2021-09-16T13:26:42Z',\n",
       "   'content': \"You won't have to stick to Bitcoin if you're determined to pay for your movie ticket with cryptocurrency. AMC chief Adam Aron has revealed his theater chain will also accept Ethereum, Litecoin and Bi… [+1198 chars]\"},\n",
       "  {'source': {'id': 'engadget', 'name': 'Engadget'},\n",
       "   'author': 'Karissa Bell',\n",
       "   'title': 'Twitter will let users send and receive Bitcoin tips',\n",
       "   'description': 'Four months after Twitter first introduced in-app tipping, the company is expanding its “tip jar” feature in a major way. The company is opening up tipping to all its users globally, and for the first time will allow some users to send and receive tips in Bit…',\n",
       "   'url': 'https://www.engadget.com/twitter-opens-tipping-in-bitcoin-170017891.html',\n",
       "   'urlToImage': 'https://s.yimg.com/os/creatr-uploaded-images/2021-09/28751be0-1c8e-11ec-9ffb-353ffababd7e',\n",
       "   'publishedAt': '2021-09-23T17:00:17Z',\n",
       "   'content': 'Four months after Twitter first introduced in-app tipping, the company is expanding its tip jar feature in a major way. The company is opening up tipping to all its users globally, and for the first … [+2390 chars]'},\n",
       "  {'source': {'id': None, 'name': 'Blogspot.com'},\n",
       "   'author': 'noreply@blogger.com (Unknown)',\n",
       "   'title': 'Bitcoin hits strongest level since May',\n",
       "   'description': '<ul><li>Bitcoin, in terms of market value, rose 4.6% to $53,859.6.</li><li>It passed $50,000 mark for first time in four weeks on Tuesday.\\xa0</li><li>Bitcoin fell below $50,000 in early September.</li></ul>Bitcoin hit its highest level since mid-May on Wednesda…',\n",
       "   'url': 'https://techncruncher.blogspot.com/2021/10/bitcoin-hits-strongest-level-since-may.html',\n",
       "   'urlToImage': 'https://blogger.googleusercontent.com/img/a/AVvXsEhiFZua2TKlWOHoZ5qipQ8zBVpSMbXNdxOFJmwNkddvji4GqJRO4SonCCmwV_IBrxtHCb2UlJ850RuZPY75s54QZkedzrYthaQqoo4tuOD3zUbMhTGxJ2T-rFtSu8I1vRJY9RtH8dWw7_5XtGfoeUvJuAWZU-U9XLsHKTKffBSWD6G9su34rjkO0sYD-w=w1200-h630-p-k-no-nu',\n",
       "   'publishedAt': '2021-10-06T17:17:00Z',\n",
       "   'content': '<ul><li>Bitcoin, in terms of market value, rose 4.6% to $53,859.6.</li><li>It passed $50,000 mark for first time in four weeks on Tuesday.\\xa0</li><li>Bitcoin fell below $50,000 in early September.</li>… [+821 chars]'},\n",
       "  {'source': {'id': 'engadget', 'name': 'Engadget'},\n",
       "   'author': 'Andrew Tarantola',\n",
       "   'title': \"Hitting the Books: How Bitcoin is somehow worth more than the paper it's printed on\",\n",
       "   'description': 'Bitcoin and similar blockchain-based cryptos exhibit the same radical divergence from traditional scarcity economics that we first saw when MP3s and Napster cratered physical album sales at the turn of the century. Unlike gold, which derives its value from bo…',\n",
       "   'url': 'https://www.engadget.com/hitting-the-books-the-future-of-money-eswar-prasad-harvard-university-press-153024975.html',\n",
       "   'urlToImage': 'https://s.yimg.com/os/creatr-uploaded-images/2021-09/5ea7d740-17ff-11ec-9ffd-ff33ac942d83',\n",
       "   'publishedAt': '2021-09-25T15:30:24Z',\n",
       "   'content': 'Bitcoin and similar blockchain-based cryptos exhibit the same radical divergence from traditional scarcity economics that we first saw when MP3s and Napster cratered physical album sales at the turn … [+8436 chars]'},\n",
       "  {'source': {'id': None, 'name': 'Blogspot.com'},\n",
       "   'author': 'noreply@blogger.com (Unknown)',\n",
       "   'title': 'JPMorgan CEO Says Bitcoin Has No Intrinsic Value After Claiming That Its Price Could Rise 10X',\n",
       "   'description': 'JPMorgan CEO Jamie Dimon is still not a Bitcoin fan despite rapid price appreciation   from U.Today https://ift.tt/3iyi5nR https://ift.tt/eA...',\n",
       "   'url': 'https://techncruncher.blogspot.com/2021/10/jpmorgan-ceo-says-bitcoin-has-no.html',\n",
       "   'urlToImage': None,\n",
       "   'publishedAt': '2021-10-04T19:49:00Z',\n",
       "   'content': 'JPMorgan CEO Jamie Dimon is still not a Bitcoin fan despite rapid price appreciationfrom U.Today https://ift.tt/3iyi5nR https://ift.tt/eA8V8J'},\n",
       "  {'source': {'id': None, 'name': 'Blogspot.com'},\n",
       "   'author': 'noreply@blogger.com (Unknown)',\n",
       "   'title': 'BTC, DOGE, and SHIBA Price Analysis for October 6',\n",
       "   'description': 'How high are the chances of Bitcoin sustaining its gains and pushing altcoins higher?   from U.Today https://ift.tt/3BkD5px https://ift.tt/e...',\n",
       "   'url': 'https://techncruncher.blogspot.com/2021/10/btc-doge-and-shiba-price-analysis-for.html',\n",
       "   'urlToImage': None,\n",
       "   'publishedAt': '2021-10-06T19:49:00Z',\n",
       "   'content': 'How high are the chances of Bitcoin sustaining its gains and pushing altcoins higher?from U.Today https://ift.tt/3BkD5px https://ift.tt/eA8V8J'},\n",
       "  {'source': {'id': None, 'name': 'Blogspot.com'},\n",
       "   'author': 'noreply@blogger.com (Unknown)',\n",
       "   'title': 'Why have Elon Musk and Tesla suddenly turned against bitcoin?',\n",
       "   'description': 'Elon Musk has performed a sudden U-turn on bitcoin over concerns about its energy usage, and says his electric car firm Tesla will no longer accept the cryptocurrency as payment – but will his decision have an impact, and could Tesla turn to an alternative cu…',\n",
       "   'url': 'https://techncruncher.blogspot.com/2021/09/why-have-elon-musk-and-tesla-suddenly.html',\n",
       "   'urlToImage': 'https://blogger.googleusercontent.com/img/a/AVvXsEh20SgNNsDlKyWWmB7XgB5SfFY10M6CqJAq93HwGtssTn2cWz6w9zHPjXf91WwoWr27QeaC4HsGv2NxPOXUdvk6xodUojnw8rUuAkEMY3Qb4ucoVpN3nSyF8JW_xVDWa2aSMEWH387hPsfouSJyClLNburIcDbXIeJamuTHwiSvw4hdNnqeeICcvg1wrQ=w1200-h630-p-k-no-nu',\n",
       "   'publishedAt': '2021-09-28T20:03:00Z',\n",
       "   'content': 'Elon Musk has performed a sudden U-turn on bitcoin over concerns about its energy usage, and says his electric car firm Tesla will no longer accept the cryptocurrency as payment – but will his decisi… [+3069 chars]'},\n",
       "  {'source': {'id': 'the-verge', 'name': 'The Verge'},\n",
       "   'author': 'Kim Lyons',\n",
       "   'title': 'China’s central bank bans cryptocurrency transactions to avoid ‘risks’',\n",
       "   'description': 'China’s central bank on Friday said cryptocurrency transactions in the country are illegal, banning all transactions. It said cryptocurrencies like bitcoin and Ethereum are not legal tender and can’t be circulated.',\n",
       "   'url': 'https://www.theverge.com/2021/9/24/22691472/china-central-bank-cryptocurrency-illegal-bitcoin',\n",
       "   'urlToImage': 'https://cdn.vox-cdn.com/thumbor/mde_l3lUC4muDPEFG7LYrUz0O3g=/0x146:2040x1214/fit-in/1200x630/cdn.vox-cdn.com/uploads/chorus_asset/file/8921023/acastro_bitcoin_2.jpg',\n",
       "   'publishedAt': '2021-09-24T16:22:55Z',\n",
       "   'content': 'Its the countrys latest crackdown on digital currencies\\r\\nIllustration by Alex Castro / The Verge\\r\\nThe Peoples Bank of China, the countrys central bank, said Friday that cryptocurrency transactions ar… [+1461 chars]'},\n",
       "  {'source': {'id': None, 'name': 'Gizmodo.com'},\n",
       "   'author': 'Molly Taft',\n",
       "   'title': 'Mining Bitcoin Using Nuclear Power May Be Fine, Actually',\n",
       "   'description': 'Last week, the Wall Street Journal ran a piece on three recent nuclear-bitcoin deals that may signal a growing trend in the industry. The Journal piece reflects a small but growing sense of excitement expressed by some crypto fans—including Miami mayor and bi…',\n",
       "   'url': 'https://gizmodo.com/mining-bitcoin-using-nuclear-power-may-be-fine-actuall-1847825102',\n",
       "   'urlToImage': 'https://i.kinja-img.com/gawker-media/image/upload/c_fill,f_auto,fl_progressive,g_center,h_675,pg_1,q_80,w_1200/3cd3ec5c1c48d6ad49a659ab76b82e02.jpg',\n",
       "   'publishedAt': '2021-10-08T16:35:00Z',\n",
       "   'content': 'Last week, the Wall Street Journal ran a piece on three recent nuclear-bitcoin deals that may signal a growing trend in the industry. The Journal piece reflects a small but growing sense of excitemen… [+9512 chars]'},\n",
       "  {'source': {'id': None, 'name': 'Blogspot.com'},\n",
       "   'author': 'noreply@blogger.com (Unknown)',\n",
       "   'title': 'Twitter will allow people to tip their favorite content creators with bitcoin',\n",
       "   'description': 'Twitter will now allow people to tip their favorite content creators with bitcoin and will also launch a fund to pay some users who host audio chat rooms on its Spaces feature, the company said on Thursday.The company also said it will test new ways to help u…',\n",
       "   'url': 'https://techncruncher.blogspot.com/2021/09/twitter-will-allow-people-to-tip-their.html',\n",
       "   'urlToImage': 'https://lh3.googleusercontent.com/proxy/1YJtFF25zSUEDnZG0KffEqRkuld5BSehiyo-0FWiRJNwu6PBJ8Jc8KnXmLXpRfQblZibb-LrRCic9IQeEo1h_fRS2NM=w1200-h630-n-k-no-nu',\n",
       "   'publishedAt': '2021-09-24T12:14:00Z',\n",
       "   'content': 'Twitter will now allow people to tip their favorite content creators with bitcoin and will also launch a fund to pay some users who host audio chat rooms on its Spaces feature, the company said on Th… [+2802 chars]'},\n",
       "  {'source': {'id': 'bbc-news', 'name': 'BBC News'},\n",
       "   'author': 'https://www.facebook.com/bbcnews',\n",
       "   'title': 'Bitcoin protests in El Salvador against cryptocurrency as legal tender',\n",
       "   'description': 'The demonstrators burn Bitcoin machines, a week after the cryptocurrency became legal tender.',\n",
       "   'url': 'https://www.bbc.co.uk/news/world-latin-america-58579415',\n",
       "   'urlToImage': 'https://ichef.bbci.co.uk/news/1024/branded_news/7CA4/production/_120580913_gettyimages-1235276291.jpg',\n",
       "   'publishedAt': '2021-09-16T00:55:53Z',\n",
       "   'content': 'image captionProtesters held signs reading \"no to Bitcoin\"\\r\\nThousands of protesters have taken to the streets in El Salvador, angry at the introduction of Bitcoin as its legal tender.\\r\\nPresident Nayi… [+1352 chars]'},\n",
       "  {'source': {'id': None, 'name': 'Gizmodo.com'},\n",
       "   'author': 'Shoshana Wodinsky',\n",
       "   'title': 'Bitcoin Bros and Nuclear Bros Have Found Common Cause',\n",
       "   'description': 'Cryptocurrency mining is a wildly energy-intensive endeavor that doesn’t only pump out more carbon emissions than some small countries, but is quickly racking up a small mountain range’s worth of electronic waste. Read more...',\n",
       "   'url': 'https://gizmodo.com/bitcoin-bros-and-nuclear-bros-have-found-common-cause-1847753537',\n",
       "   'urlToImage': 'https://i.kinja-img.com/gawker-media/image/upload/c_fill,f_auto,fl_progressive,g_center,h_675,pg_1,q_80,w_1200/5c22a9aedc33f826f84934ea6a41d67c.jpg',\n",
       "   'publishedAt': '2021-09-27T21:40:00Z',\n",
       "   'content': 'Cryptocurrency mining is awildlyenergy-intensive endeavor that doesnt only pump out more carbon emissions than some small countries, but is quickly racking up a small mountain ranges worth of electro… [+2719 chars]'},\n",
       "  {'source': {'id': None, 'name': 'Blogspot.com'},\n",
       "   'author': 'noreply@blogger.com (Unknown)',\n",
       "   'title': None,\n",
       "   'description': 'PayPal has two decades of experience in online payments and manages 403 million user accounts. So, it caused ripples when it announced on 23 August it would allow UK customers to buy and sell four cryptocurrencies: bitcoin prices rose to a three-month high. B…',\n",
       "   'url': 'https://techncruncher.blogspot.com/2021/09/paypal-has-two-decades-of-experience-in.html',\n",
       "   'urlToImage': 'https://blogger.googleusercontent.com/img/a/AVvXsEhBa3NzNDTA2Zt8VB-9At9FSPpDIT_DhB17F3Jj5kQB-dYwDGVSL86_0t2nNFHv187uxCQkPt5GHwuiVtCKJKHfqI1RBqHh7to6zn8dmf_WZNlRpQnsvWEzImMQ9mXTisx6U822KEzpAGayi8YoC9Qsaos5pvLzgF_HVSzWBfRDMgFWPnCEBa0GKUM-GA=w1200-h630-p-k-no-nu',\n",
       "   'publishedAt': '2021-09-28T20:04:00Z',\n",
       "   'content': 'PayPal has two decades of experience in online payments and manages 403 million user accounts. So, it caused ripples when it announced on 23 August it would allow UK customers to buy and sell four cr… [+3680 chars]'},\n",
       "  {'source': {'id': None, 'name': 'Blogspot.com'},\n",
       "   'author': 'noreply@blogger.com (Unknown)',\n",
       "   'title': 'SEC Chair Dodges Question About Regulatory Status of Bitcoin and Ether',\n",
       "   'description': 'The SEC boss remains mum about the regulatory status of the two largest cryptocurrenciesfrom U.Today https://ift.tt/3Af9H2O https://ift.tt/eA8V8J',\n",
       "   'url': 'https://techncruncher.blogspot.com/2021/10/sec-chair-dodges-question-about.html',\n",
       "   'urlToImage': None,\n",
       "   'publishedAt': '2021-10-05T20:49:00Z',\n",
       "   'content': 'The SEC boss remains mum about the regulatory status of the two largest cryptocurrenciesfrom U.Today https://ift.tt/3Af9H2O https://ift.tt/eA8V8J'},\n",
       "  {'source': {'id': None, 'name': 'Blogspot.com'},\n",
       "   'author': 'noreply@blogger.com (Unknown)',\n",
       "   'title': 'IMF Head Says Central Bank Digital Currencies Are Reliable, Hard to Think of Bitcoin as Money',\n",
       "   'description': 'Digital currencies backed by central banks are the most reliable form of digital money, according to IMF managing director Kristalina Georgieva. At the same time, to think of cryptocurrencies such as bitcoin as money is difficult, believes the chief executive…',\n",
       "   'url': 'https://techncruncher.blogspot.com/2021/10/imf-head-says-central-bank-digital.html',\n",
       "   'urlToImage': 'https://blogger.googleusercontent.com/img/a/AVvXsEiXlCRA_UbzC-SYoJvcZ0FDmKyU1gg4tYoqZujE3S0M97uSwzeU3lozMz8_kXZysCa7VM_uc5T0Af1iZKwy3b5UlKNMliJ7ZnxrpONB3Pysz4zipt5vf1EGZidz_i2un_omh2aJ7ZQVCfqNr6D-lE31HNCIKXM7cof3ph2imr3uaLkwm4z3fG3E-smk_w=w1200-h630-p-k-no-nu',\n",
       "   'publishedAt': '2021-10-06T17:39:00Z',\n",
       "   'content': 'Digital currencies backed by central banks are the most reliable form of digital money, according to IMF managing director Kristalina Georgieva. At the same time, to think of cryptocurrencies such as… [+2917 chars]'},\n",
       "  {'source': {'id': None, 'name': 'Blogspot.com'},\n",
       "   'author': 'noreply@blogger.com (Unknown)',\n",
       "   'title': 'Tesla CEO Elon Musk says U.S. government should avoid regulating crypto',\n",
       "   'description': 'Tesla CEO Elon Musk on Tuesday said the U.S. government should steer clear of trying to regulate the crypto market.“It is not possible to, I think, destroy crypto, but it is possible for governments to slow down its advancement,” Musk said at the Code Confere…',\n",
       "   'url': 'https://techncruncher.blogspot.com/2021/09/tesla-ceo-elon-musk-on-tuesday-said-u.html',\n",
       "   'urlToImage': 'https://blogger.googleusercontent.com/img/a/AVvXsEjrlb5X_AFKIugDMdmlPhzACSYxnhwo2YXP8SkWhgJ_JpICMwUEgkH9giAJEaTEnVQUP7TzEC_YITQHtFSM6GEWExkbaPAOKUN2Z1SMgRHXIiBQ-Fv3s_NTaDinlsUEIQN2NdG_cw-iOAMvUEeAUGwgb049yuIBDsigkR4dCWtZkepl9V-6Tg38LRp60A=w1200-h630-p-k-no-nu',\n",
       "   'publishedAt': '2021-09-29T13:00:00Z',\n",
       "   'content': 'Tesla CEO Elon Musk on Tuesday said the U.S. government should steer clear of trying to regulate the crypto market.“It is not possible to, I think, destroy crypto, but it is possible for governments … [+1892 chars]'},\n",
       "  {'source': {'id': None, 'name': 'Gizmodo.com'},\n",
       "   'author': 'Whitney Kimball',\n",
       "   'title': 'A Bitcoin Mining Operation Started a Secret Power Plant, It Did Not Go as Planned',\n",
       "   'description': 'A There Will Be Blood-style drama unfolds in Canada, where a Bitcoin mining operation illegally tapped an unused natural gas well near a wealthy neighborhood in Alberta. The company Link Global might have gotten away with pilfering gas, if not for noise compl…',\n",
       "   'url': 'https://gizmodo.com/a-bitcoin-mining-operation-started-a-secret-power-plant-1847811718',\n",
       "   'urlToImage': 'https://i.kinja-img.com/gawker-media/image/upload/c_fill,f_auto,fl_progressive,g_center,h_675,pg_1,q_80,w_1200/7c2308365fbde2aacd00611609b7f19d.jpg',\n",
       "   'publishedAt': '2021-10-06T19:40:00Z',\n",
       "   'content': 'A There Will Be Blood-style drama unfolds in Canada, where a Bitcoin mining operation illegally tapped an unused natural gas well near a wealthy neighborhood in Alberta. The company Link Global might… [+2770 chars]'},\n",
       "  {'source': {'id': 'ars-technica', 'name': 'Ars Technica'},\n",
       "   'author': 'Tim De Chant',\n",
       "   'title': 'Old coal plant is now mining bitcoin for a utility company',\n",
       "   'description': 'Bitcoin is breathing new life into another ailing power plant.',\n",
       "   'url': 'https://arstechnica.com/tech-policy/2021/09/old-coal-plant-is-now-mining-bitcoin-for-a-utility-company/',\n",
       "   'urlToImage': 'https://cdn.arstechnica.net/wp-content/uploads/2018/01/bitcoin-lightning-760x380.jpg',\n",
       "   'publishedAt': '2021-09-24T20:30:09Z',\n",
       "   'content': '19 with 16 posters participating\\r\\nBitcoins massive power consumption is the cryptocurrencys dirty secret. To mine bitcoin, computers across the globe chew through enough electricity to power a medium… [+3500 chars]'},\n",
       "  {'source': {'id': 'business-insider', 'name': 'Business Insider'},\n",
       "   'author': 'ilee@insider.com (Isabelle Lee)',\n",
       "   'title': 'The SEC could approve as many as 4 bitcoin futures ETFs in October',\n",
       "   'description': 'Unlike bitcoin ETFs, SEC Chair Gary Gensler has expressed more openness towards bitcoin futures ETF.',\n",
       "   'url': 'https://markets.businessinsider.com/news/currencies/bitcoin-futures-etf-cryptocurrency-sec-exchange-traded-fund-gary-gensler-2021-10',\n",
       "   'urlToImage': 'https://images2.markets.businessinsider.com/616039325ae4fe0018a70e50?format=jpeg',\n",
       "   'publishedAt': '2021-10-08T13:19:51Z',\n",
       "   'content': 'Securities and Exchange Commission headquarters.\\r\\nREUTERS/Andrew Kelly\\r\\nThe US Securities and Exchange Commission could approve as many as four bitcoin futures exchange-traded funds in October, in wh… [+1732 chars]'},\n",
       "  {'source': {'id': 'reuters', 'name': 'Reuters'},\n",
       "   'author': None,\n",
       "   'title': 'AMC CEO says theaters will accept other cryptocurrencies along with Bitcoin- Tweet - Reuters',\n",
       "   'description': 'AMC Entertainment <a href=\"https://www.reuters.com/companies/AMC.N\" target=\"_blank\">(AMC.N)</a> CEO Adam Aron said on Wednesday AMC Theatres will accept Bitcoin for online ticket and concession payments, and similarly accept other cryptocurrencies like Ethere…',\n",
       "   'url': 'https://www.reuters.com/business/amc-ceo-says-theaters-will-accept-other-cryptocurrencies-along-with-bitcoin-2021-09-16/',\n",
       "   'urlToImage': 'https://www.reuters.com/resizer/Muta2dqDbFvfkI25GuCPOyDugfs=/1200x628/smart/filters:quality(80)/cloudfront-us-east-2.images.arcpublishing.com/reuters/XTJXYQEFBZNQZKEMITGI4LWTRM.jpg',\n",
       "   'publishedAt': '2021-09-16T02:12:00Z',\n",
       "   'content': 'A representation of cryptocurrency Bitcoin is seen in this illustration taken August 6, 2021. REUTERS/Dado Ruvic/Illustration/File PhotoSept 15 (Reuters) - AMC Entertainment (AMC.N) CEO Adam Aron sai… [+596 chars]'}]}"
      ]
     },
     "execution_count": 8,
     "metadata": {},
     "output_type": "execute_result"
    }
   ],
   "source": [
    "# Fetch the Bitcoin news articles\n",
    "\n",
    "bitcoin = newsapi.get_everything(q='Bitcoin', language=\"en\")\n",
    "bitcoin"
   ]
  },
  {
   "cell_type": "code",
   "execution_count": 9,
   "metadata": {},
   "outputs": [
    {
     "data": {
      "text/plain": [
       "{'status': 'ok',\n",
       " 'totalResults': 2705,\n",
       " 'articles': [{'source': {'id': 'the-verge', 'name': 'The Verge'},\n",
       "   'author': 'Kim Lyons',\n",
       "   'title': 'China’s central bank bans cryptocurrency transactions to avoid ‘risks’',\n",
       "   'description': 'China’s central bank on Friday said cryptocurrency transactions in the country are illegal, banning all transactions. It said cryptocurrencies like bitcoin and Ethereum are not legal tender and can’t be circulated.',\n",
       "   'url': 'https://www.theverge.com/2021/9/24/22691472/china-central-bank-cryptocurrency-illegal-bitcoin',\n",
       "   'urlToImage': 'https://cdn.vox-cdn.com/thumbor/mde_l3lUC4muDPEFG7LYrUz0O3g=/0x146:2040x1214/fit-in/1200x630/cdn.vox-cdn.com/uploads/chorus_asset/file/8921023/acastro_bitcoin_2.jpg',\n",
       "   'publishedAt': '2021-09-24T16:22:55Z',\n",
       "   'content': 'Its the countrys latest crackdown on digital currencies\\r\\nIllustration by Alex Castro / The Verge\\r\\nThe Peoples Bank of China, the countrys central bank, said Friday that cryptocurrency transactions ar… [+1461 chars]'},\n",
       "  {'source': {'id': 'engadget', 'name': 'Engadget'},\n",
       "   'author': 'Jon Fingas',\n",
       "   'title': 'AMC theaters will accept cryptocurrencies beyond Bitcoin',\n",
       "   'description': \"You won't have to stick to Bitcoin if you're determined to pay for your movie ticket with cryptocurrency. AMC chief Adam Aron has revealed his theater chain will also accept Ethereum, Litecoin and Bitcoin Cash when crypto payments are available. He didn't hav…\",\n",
       "   'url': 'https://www.engadget.com/amc-theaters-accept-ethereum-litecoin-bitcoin-cash-132642183.html',\n",
       "   'urlToImage': 'https://s.yimg.com/os/creatr-uploaded-images/2021-09/4a01cb80-16eb-11ec-abfe-c7b840dd48ca',\n",
       "   'publishedAt': '2021-09-16T13:26:42Z',\n",
       "   'content': \"You won't have to stick to Bitcoin if you're determined to pay for your movie ticket with cryptocurrency. AMC chief Adam Aron has revealed his theater chain will also accept Ethereum, Litecoin and Bi… [+1198 chars]\"},\n",
       "  {'source': {'id': 'engadget', 'name': 'Engadget'},\n",
       "   'author': 'Jon Fingas',\n",
       "   'title': 'OpenSea product lead resigns over use of insider NFT info for purchases',\n",
       "   'description': \"OpenSea isn't wasting much time after its head of product was accused of exploiting insider information to turn a profit on non-fungible tokens. The marketplace has asked for and accepted Nate Chastain's resignation following claims he used secret Ethereum wa…\",\n",
       "   'url': 'https://www.engadget.com/opensea-nft-insider-trader-resigns-190502174.html',\n",
       "   'urlToImage': 'https://s.yimg.com/os/creatr-uploaded-images/2021-09/2d0bd7f0-124f-11ec-9d5b-406f59cf7dbc',\n",
       "   'publishedAt': '2021-09-16T19:05:02Z',\n",
       "   'content': \"OpenSea isn't wasting much time after its head of product was accused of exploiting insider information to turn a profit on non-fungible tokens. The marketplace has asked for and accepted Nate Chasta… [+924 chars]\"},\n",
       "  {'source': {'id': 'engadget', 'name': 'Engadget'},\n",
       "   'author': 'Igor Bonifacic',\n",
       "   'title': 'Robinhood will start testing crypto wallets next month',\n",
       "   'description': 'Robinhood plans to start a cryptocurrency wallet next month, the company announced on Wednesday. The tool will allow you to send and receive digital currencies, as well as trade them and move them off the app. If you want to take part in the test, you’ll need…',\n",
       "   'url': 'https://www.engadget.com/robinhood-cryptocurrency-wallet-test-october-190030675.html',\n",
       "   'urlToImage': 'https://s.yimg.com/os/creatr-uploaded-images/2021-09/5035fef0-1bd6-11ec-b7e5-a610838e0b98',\n",
       "   'publishedAt': '2021-09-22T19:00:30Z',\n",
       "   'content': 'Robinhood plans to start a cryptocurrency wallet next month, the company announced on Wednesday. The tool will allow you to send and receive digital currencies, as well as trade them and move them of… [+1090 chars]'},\n",
       "  {'source': {'id': 'bbc-news', 'name': 'BBC News'},\n",
       "   'author': 'https://www.facebook.com/bbcnews',\n",
       "   'title': \"Music company buys NFT of 'Side-eyeing Chloe' meme\",\n",
       "   'description': 'The image of two-year-old Chloe Clem making a disapproving face was auctioned in cryptocurrency.',\n",
       "   'url': 'https://www.bbc.co.uk/news/world-us-canada-58687070',\n",
       "   'urlToImage': 'https://ichef.bbci.co.uk/news/1024/branded_news/5C36/production/_120660632_thumbnail_chloesideeye_clean.jpg',\n",
       "   'publishedAt': '2021-09-25T04:30:25Z',\n",
       "   'content': \"image source, foundation.app/@SideEyeingChloe\\r\\nimage captionChloe Clem's disapproving look has become an internet sensation\\r\\nAn image of a popular internet meme, featuring a two-year-old girl, has be… [+2490 chars]\"},\n",
       "  {'source': {'id': None, 'name': 'Blogspot.com'},\n",
       "   'author': 'noreply@blogger.com (Unknown)',\n",
       "   'title': 'Sorare raises $680 million for its fantasy sports NFT game',\n",
       "   'description': \"image credit:SorareFrench startup Sorare has announced that it has raised a significant funding round. SoftBank's Vision Fund 2 has led a $680 million Series B round, which values the company at $4.3 billion.Sorare has built a fantasty football (soccer) platf…\",\n",
       "   'url': 'https://techncruncher.blogspot.com/2021/09/sorare-raises-680-million-for-its.html',\n",
       "   'urlToImage': 'https://1.bp.blogspot.com/-bTziBZzy_tw/YUmiF2DDlXI/AAAAAAAAAUc/n3pjDV13R0khZPMBtEcen2lGMAoA-KiqwCLcBGAsYHQ/w1200-h630-p-k-no-nu/A_N_1.jpg',\n",
       "   'publishedAt': '2021-09-21T04:14:00Z',\n",
       "   'content': \"image credit:Sorare\\r\\nFrench startup Sorare has announced that it has raised a significant funding round. SoftBank's Vision Fund 2 has led a $680 million Series B round, which values the company at $4… [+2917 chars]\"},\n",
       "  {'source': {'id': 'business-insider', 'name': 'Business Insider'},\n",
       "   'author': 'hrobertson@businessinsider.com (Harry Robertson)',\n",
       "   'title': \"Vitalik Buterin created a 'fellowship of the ring' to build ethereum. But the founders have a history of feuds and are now competing for crypto dominance.\",\n",
       "   'description': 'Vitalik Buterin has said one of his biggest regrets was \"nondiscriminately\" choosing seven other founders to help him build ethereum.',\n",
       "   'url': 'https://markets.businessinsider.com/news/stocks/ethereum-eth-cofounders-vitalik-buterin-cardano-charles-hoskinson-gavin-wood-2021-9',\n",
       "   'urlToImage': 'https://images2.markets.businessinsider.com/614490f22257350018f7512c?format=jpeg',\n",
       "   'publishedAt': '2021-09-19T10:00:00Z',\n",
       "   'content': 'Vitalik Buterin\\r\\nVitalik Buterin dreamed up ethereum in 2013.\\r\\nGetty Images/John Phillips\\r\\nVitalik Buterin has compared the eight founders of the ethereum blockchain to JRR Tolkien\\'s close-knit \"fell… [+5139 chars]'},\n",
       "  {'source': {'id': 'business-insider', 'name': 'Business Insider'},\n",
       "   'author': 'cshumba@insider.com (Camomile Shumba)',\n",
       "   'title': \"Cardano founder Charles Hoskinson says the crypto world needs 'that wi-fi moment' - where users can work with any blockchain seamlessly - more than it needs a dominant network\",\n",
       "   'description': 'Charles Hoskinson doesn\\'t believe any blockchain will be dominant in the years to come, even so-called \"ethereum killers\" like cardano.',\n",
       "   'url': 'https://markets.businessinsider.com/news/currencies/cardano-smart-contracts-charles-hoskinson-blockchains-alonzo-polkadot-ethereum-2021-9',\n",
       "   'urlToImage': 'https://images2.markets.businessinsider.com/613f701f261771001825d1ea?format=jpeg',\n",
       "   'publishedAt': '2021-09-14T07:07:25Z',\n",
       "   'content': 'Cardano ada\\r\\nSOPA images\\r\\nThe cardano network took a step closer this past weekend to competing more fiercely with the larger ethereum network, after a key upgrade meant it could host decentralized f… [+2036 chars]'},\n",
       "  {'source': {'id': None, 'name': 'Entrepreneur'},\n",
       "   'author': 'Entrepreneur Store',\n",
       "   'title': 'Explore the Modern World of Cryptocurrency',\n",
       "   'description': 'Start with the basics, then learn how to build your own projects as an Ethereum blockchain developer.',\n",
       "   'url': 'https://www.entrepreneur.com/article/386641',\n",
       "   'urlToImage': 'https://assets.entrepreneur.com/content/3x2/2000/1632174590-Ent-BuildYourCrypto.jpg',\n",
       "   'publishedAt': '2021-09-22T17:30:00Z',\n",
       "   'content': \"The world is slowly but surely making a shift toward\\xa0normalizing cryptocurrency. Sure, maybe retail giants like Walmart haven't quite bought in, but the nation of El Salvador has made Bitcoin its off… [+1731 chars]\"},\n",
       "  {'source': {'id': 'business-insider', 'name': 'Business Insider'},\n",
       "   'author': 'snagarajan@businessinsider.com (Shalini Nagarajan)',\n",
       "   'title': 'Elizabeth Warren takes aim at high ethereum network fees that she says could wipe out small investors',\n",
       "   'description': 'The senator criticized the high fees imposed on ethereum to secure transactions during heightened volatility, saying investors could get jammed.',\n",
       "   'url': 'https://markets.businessinsider.com/news/currencies/elizabeth-warren-ethereum-network-fees-high-wipe-out-small-investors-2021-9',\n",
       "   'urlToImage': 'https://images2.markets.businessinsider.com/60f727715663b300113b0e06?format=jpeg',\n",
       "   'publishedAt': '2021-09-15T15:04:06Z',\n",
       "   'content': \"Sen. Elizabeth Warren.\\r\\nGREG NASH/POOL/AFP via Getty Images\\r\\nSen. Elizabeth Warren has criticized the high fees on ethereum's network during heightened trading volatility, arguing they could substant… [+2416 chars]\"},\n",
       "  {'source': {'id': 'reuters', 'name': 'Reuters'},\n",
       "   'author': None,\n",
       "   'title': 'AMC CEO says theaters will accept other cryptocurrencies along with Bitcoin- Tweet - Reuters',\n",
       "   'description': 'AMC Entertainment <a href=\"https://www.reuters.com/companies/AMC.N\" target=\"_blank\">(AMC.N)</a> CEO Adam Aron said on Wednesday AMC Theatres will accept Bitcoin for online ticket and concession payments, and similarly accept other cryptocurrencies like Ethere…',\n",
       "   'url': 'https://www.reuters.com/business/amc-ceo-says-theaters-will-accept-other-cryptocurrencies-along-with-bitcoin-2021-09-16/',\n",
       "   'urlToImage': 'https://www.reuters.com/resizer/Muta2dqDbFvfkI25GuCPOyDugfs=/1200x628/smart/filters:quality(80)/cloudfront-us-east-2.images.arcpublishing.com/reuters/XTJXYQEFBZNQZKEMITGI4LWTRM.jpg',\n",
       "   'publishedAt': '2021-09-16T02:12:00Z',\n",
       "   'content': 'A representation of cryptocurrency Bitcoin is seen in this illustration taken August 6, 2021. REUTERS/Dado Ruvic/Illustration/File PhotoSept 15 (Reuters) - AMC Entertainment (AMC.N) CEO Adam Aron sai… [+596 chars]'},\n",
       "  {'source': {'id': 'business-insider', 'name': 'Business Insider'},\n",
       "   'author': 'hrobertson@businessinsider.com (Harry Robertson)',\n",
       "   'title': \"Ethereum cofounder Vitalik Buterin joins Joe Biden and Billie Eilish on Time's 100 most influential people list\",\n",
       "   'description': 'Vitalik Buterin, who came up with ethereum in 2013, appears on the famous list in a sign of the growing power of cryptocurrencies.',\n",
       "   'url': 'https://markets.businessinsider.com/news/currencies/ethereum-crypto-vitalik-buterin-time-100-most-influential-founder-2021-9',\n",
       "   'urlToImage': 'https://images2.markets.businessinsider.com/61431b25f0cb130019e90818?format=jpeg',\n",
       "   'publishedAt': '2021-09-16T10:40:02Z',\n",
       "   'content': \"Vitalik Buterin launched ethereum in 2015.\\r\\nJohn Phillips/Getty Images for TechCrunch\\r\\nEthereum cofounder Vitalik Buterin has been named on Time magazine's prestigious list of the world's 100 most in… [+1792 chars]\"},\n",
       "  {'source': {'id': None, 'name': 'Entrepreneur'},\n",
       "   'author': 'Mervik Haums',\n",
       "   'title': 'Next-Generation Layer-One Blockchain Protocols Remove the Financial Barriers to DeFi and NFTs',\n",
       "   'description': 'Layer-one smart-contract platforms offer a practical alternative to the high fees and slow transaction-confirmation times of Ethereum, making blockchain technology and DeFi accessible to all.',\n",
       "   'url': 'https://www.entrepreneur.com/article/384771',\n",
       "   'urlToImage': 'https://assets.entrepreneur.com/content/3x2/2000/1631638382-shutterstock-644464534.jpg',\n",
       "   'publishedAt': '2021-09-17T15:00:00Z',\n",
       "   'content': 'Blockchain technology has emerged as a revolutionary force for change on the global stage over the past decade as Bitcoin has risen from being shadowy internet money used by criminals to an accepted … [+6744 chars]'},\n",
       "  {'source': {'id': None, 'name': 'Entrepreneur'},\n",
       "   'author': 'Mairem Del Río',\n",
       "   'title': 'Solana, rival of Ethereum, is already the seventh most valuable cryptocurrency on the market, surpassed Dogecoin!',\n",
       "   'description': 'Solana has grown 35% in capitalization in just 24 hours and more than 800% in less than two months. Now, it is the seventh most valuable cryptocurrency on the market above Dogecoin, but it has not surpassed its rival Ethereum.',\n",
       "   'url': 'https://www.entrepreneur.com/article/384229',\n",
       "   'urlToImage': 'https://assets.entrepreneur.com/content/3x2/2000/1631057048-Sep8Solanacriptomonedaaltcoin.jpg',\n",
       "   'publishedAt': '2021-09-08T11:00:00Z',\n",
       "   'content': \"This Tuesday, the 'altcoin' Solana (SOL) became the seventh cryptocurrency with the highest market capitalization above Dogecoin , Elon Musk's favorite. This currency, rival of Ethereum , has grown m… [+4452 chars]\"},\n",
       "  {'source': {'id': None, 'name': 'Slashdot.org'},\n",
       "   'author': 'BeauHD',\n",
       "   'title': 'AMC Theaters Will Accept Cryptocurrencies Other Than Bitcoin',\n",
       "   'description': 'In August, AMC Entertainment CEO Adam Aron said the company will start accepting bitcoin as payment for movie tickets and concessions at all of its U.S. theaters. Now, Aron says he expects the company to also accept Ethereum, Litecoin, and Bitcoin Cash. In a …',\n",
       "   'url': 'https://news.slashdot.org/story/21/09/16/2025216/amc-theaters-will-accept-cryptocurrencies-other-than-bitcoin',\n",
       "   'urlToImage': 'https://a.fsdn.com/sd/topics/bitcoin_64.png',\n",
       "   'publishedAt': '2021-09-16T22:40:00Z',\n",
       "   'content': 'At least it will take heat off the 10,000 bitcoin pizza guy\\r\\nhttps://nypost.com/2021/05/24/... [nypost.com]\\r\\n\"10,000 bitcoins, at the time reportedly valued at $41, in exchange for the delivery of tw… [+54 chars]'},\n",
       "  {'source': {'id': 'techcrunch', 'name': 'TechCrunch'},\n",
       "   'author': 'Amanda Silberling',\n",
       "   'title': 'OpenSea released an app — but it’s for browsing, not buying and selling',\n",
       "   'description': 'It’s a big day for the Amazon of the decentralized internet — OpenSea now has an app for iOS and Android. For most companies, having a mobile app is a milestone you’d reach before hitting a $1.5 billion valuation. But like any store — whether you’re selling N…',\n",
       "   'url': 'http://techcrunch.com/2021/09/17/opensea-released-an-app-but-its-for-browsing-not-buying-and-selling/',\n",
       "   'urlToImage': 'https://techcrunch.com/wp-content/uploads/2021/03/GettyImages-1297327343.jpg?w=600',\n",
       "   'publishedAt': '2021-09-17T19:44:55Z',\n",
       "   'content': 'It’s a big day for the Amazon of the decentralized internet — OpenSea now has an app for iOS and Android. For most companies, having a mobile app is a milestone you’d reach before hitting a $1.5 bill… [+2218 chars]'},\n",
       "  {'source': {'id': 'reuters', 'name': 'Reuters'},\n",
       "   'author': None,\n",
       "   'title': 'Standard Chartered sees bitcoin hitting $100000 by early next year - Reuters',\n",
       "   'description': 'A new cryptocurrency research team at Standard Chartered has  predicted bitcoin will double in value and hit $100,000 by early next year and that it could be worth as much as $175,000 longer-term.',\n",
       "   'url': 'https://www.reuters.com/technology/standard-chartered-sees-bitcoin-hitting-100000-by-early-next-year-2021-09-08/',\n",
       "   'urlToImage': 'https://www.reuters.com/resizer/RY83qOqNHFHd0bkp6iUaBgggMPM=/1200x628/smart/filters:quality(80)/cloudfront-us-east-2.images.arcpublishing.com/reuters/QNDCTFR36BONZJXIDABJOXXISE.jpg',\n",
       "   'publishedAt': '2021-09-08T09:53:00Z',\n",
       "   'content': 'A token of the virtual currency Bitcoin is seen placed on a monitor that displays binary digits in this illustration picture, December 8, 2017. REUTERS/Dado Ruvic/IllustrationLONDON, Sept 8 (Reuters)… [+1053 chars]'},\n",
       "  {'source': {'id': 'reuters', 'name': 'Reuters'},\n",
       "   'author': None,\n",
       "   'title': 'Cryptocurrencies post inflows for 7 straight weeks, led by bitcoin -CoinShares data - Reuters',\n",
       "   'description': 'Cryptocurrency investment products and funds recorded inflows for a seventh straight week, as institutional investors warmed to more supportive statements from regulators, data from digital asset manager CoinShares showed on Monday.',\n",
       "   'url': 'https://www.reuters.com/business/cryptocurrencies-post-inflows-7-straight-weeks-led-by-bitcoin-coinshares-data-2021-10-04/',\n",
       "   'urlToImage': 'https://www.reuters.com/resizer/KWeO_uzi4ZJF4eFmoN3S4unMEPM=/1200x628/smart/filters:quality(80)/cloudfront-us-east-2.images.arcpublishing.com/reuters/Y5DHY7VEKBJ2VISD6DEX577MQY.jpg',\n",
       "   'publishedAt': '2021-10-04T21:52:00Z',\n",
       "   'content': 'Representations of cryptocurrencies Bitcoin, Ethereum, DogeCoin, Ripple, Litecoin are placed on PC motherboard in this illustration taken, June 29, 2021. REUTERS/Dado Ruvic/IllustrationNEW YORK, Oct … [+2228 chars]'},\n",
       "  {'source': {'id': 'reuters', 'name': 'Reuters'},\n",
       "   'author': 'Reuters Staff',\n",
       "   'title': 'Bitcoin rises 9.5% to $47,980.97 - Reuters',\n",
       "   'description': 'Bitcoin was up 9.46% at $47,980.97 as of at 20:12 GMT on Friday, adding $4,146.54 to its previous close.',\n",
       "   'url': 'https://www.reuters.com/article/crypto-currency-bitcoin-idUSL4N2QX2V6',\n",
       "   'urlToImage': 'https://s1.reutersmedia.net/resources_v2/images/rcom-default.png?w=800',\n",
       "   'publishedAt': '2021-10-01T20:24:00Z',\n",
       "   'content': 'By Reuters Staff\\r\\nOct 1 (Reuters) - Bitcoin was up 9.46% at $47,980.97 as of at 20:12 GMT on Friday, adding $4,146.54 to its previous close.\\r\\nBitcoin, the worlds biggest and best-known cryptocurrency… [+239 chars]'},\n",
       "  {'source': {'id': 'reuters', 'name': 'Reuters'},\n",
       "   'author': None,\n",
       "   'title': 'Bitcoin rises 5% to $51711 - Reuters',\n",
       "   'description': 'Bitcoin rose 5.01% to $51,711.21 at 22:01 GMT on Tuesday, adding $2,469.07 to its previous close.',\n",
       "   'url': 'https://www.reuters.com/business/bitcoin-rises-5-51711-2021-10-05/',\n",
       "   'urlToImage': 'https://www.reuters.com/resizer/gs8wzpShxYen3FHIv5S86NGJ7zs=/1200x628/smart/filters:quality(80)/cloudfront-us-east-2.images.arcpublishing.com/reuters/JW4FQGBO4FLVBC6Z2PN63XTY3I.jpg',\n",
       "   'publishedAt': '2021-10-05T22:24:00Z',\n",
       "   'content': 'A representation of virtual currency bitcoin is seen in front of a stock graph in this illustration taken November 19, 2020. REUTERS/Dado Ruvic/Illustration/File PhotoOct 5 (Reuters) - Bitcoin rose 5… [+414 chars]'}]}"
      ]
     },
     "execution_count": 9,
     "metadata": {},
     "output_type": "execute_result"
    }
   ],
   "source": [
    "# Fetch the Ethereum news articles\n",
    "\n",
    "\n",
    "ethereum = newsapi.get_everything(q='Ethereum', language=\"en\")\n",
    "ethereum"
   ]
  },
  {
   "cell_type": "code",
   "execution_count": 13,
   "metadata": {},
   "outputs": [
    {
     "data": {
      "text/plain": [
       "dict_keys(['source', 'author', 'title', 'description', 'url', 'urlToImage', 'publishedAt', 'content'])"
      ]
     },
     "execution_count": 13,
     "metadata": {},
     "output_type": "execute_result"
    }
   ],
   "source": [
    "ethereum['articles'][0].keys()"
   ]
  },
  {
   "cell_type": "code",
   "execution_count": 16,
   "metadata": {},
   "outputs": [],
   "source": [
    "text = analyzer.polarity_scores(ethereum['articles'][0]['content'])"
   ]
  },
  {
   "cell_type": "code",
   "execution_count": 17,
   "metadata": {},
   "outputs": [
    {
     "data": {
      "text/plain": [
       "{'neg': 0.0, 'neu': 1.0, 'pos': 0.0, 'compound': 0.0}"
      ]
     },
     "execution_count": 17,
     "metadata": {},
     "output_type": "execute_result"
    }
   ],
   "source": [
    "text"
   ]
  },
  {
   "cell_type": "code",
   "execution_count": 19,
   "metadata": {},
   "outputs": [],
   "source": [
    "def get_sent_df(texts):\n",
    "    df_data = []\n",
    "    for x in texts:\n",
    "        sent = analyzer.polarity_scores(x['content'])\n",
    "        df_data.append(\n",
    "            {\n",
    "                \"text\":x['content'],\n",
    "                \"neg\": sent[\"neg\"],\n",
    "                \"neu\": sent[\"neu\"],\n",
    "                \"pos\": sent[\"pos\"],\n",
    "                \"compound\": sent[\"compound\"],\n",
    "            }\n",
    "        )\n",
    "    return pd.DataFrame(df_data)"
   ]
  },
  {
   "cell_type": "code",
   "execution_count": 22,
   "metadata": {},
   "outputs": [
    {
     "data": {
      "text/html": [
       "<div>\n",
       "<style scoped>\n",
       "    .dataframe tbody tr th:only-of-type {\n",
       "        vertical-align: middle;\n",
       "    }\n",
       "\n",
       "    .dataframe tbody tr th {\n",
       "        vertical-align: top;\n",
       "    }\n",
       "\n",
       "    .dataframe thead th {\n",
       "        text-align: right;\n",
       "    }\n",
       "</style>\n",
       "<table border=\"1\" class=\"dataframe\">\n",
       "  <thead>\n",
       "    <tr style=\"text-align: right;\">\n",
       "      <th></th>\n",
       "      <th>text</th>\n",
       "      <th>neg</th>\n",
       "      <th>neu</th>\n",
       "      <th>pos</th>\n",
       "      <th>compound</th>\n",
       "    </tr>\n",
       "  </thead>\n",
       "  <tbody>\n",
       "    <tr>\n",
       "      <th>0</th>\n",
       "      <td>You won't have to stick to Bitcoin if you're d...</td>\n",
       "      <td>0.036</td>\n",
       "      <td>0.838</td>\n",
       "      <td>0.127</td>\n",
       "      <td>0.5574</td>\n",
       "    </tr>\n",
       "    <tr>\n",
       "      <th>1</th>\n",
       "      <td>Four months after Twitter first introduced in-...</td>\n",
       "      <td>0.000</td>\n",
       "      <td>1.000</td>\n",
       "      <td>0.000</td>\n",
       "      <td>0.0000</td>\n",
       "    </tr>\n",
       "    <tr>\n",
       "      <th>2</th>\n",
       "      <td>&lt;ul&gt;&lt;li&gt;Bitcoin, in terms of market value, ros...</td>\n",
       "      <td>0.000</td>\n",
       "      <td>0.924</td>\n",
       "      <td>0.076</td>\n",
       "      <td>0.3400</td>\n",
       "    </tr>\n",
       "    <tr>\n",
       "      <th>3</th>\n",
       "      <td>Bitcoin and similar blockchain-based cryptos e...</td>\n",
       "      <td>0.000</td>\n",
       "      <td>1.000</td>\n",
       "      <td>0.000</td>\n",
       "      <td>0.0000</td>\n",
       "    </tr>\n",
       "    <tr>\n",
       "      <th>4</th>\n",
       "      <td>JPMorgan CEO Jamie Dimon is still not a Bitcoi...</td>\n",
       "      <td>0.116</td>\n",
       "      <td>0.884</td>\n",
       "      <td>0.000</td>\n",
       "      <td>-0.2411</td>\n",
       "    </tr>\n",
       "  </tbody>\n",
       "</table>\n",
       "</div>"
      ],
      "text/plain": [
       "                                                text    neg    neu    pos  \\\n",
       "0  You won't have to stick to Bitcoin if you're d...  0.036  0.838  0.127   \n",
       "1  Four months after Twitter first introduced in-...  0.000  1.000  0.000   \n",
       "2  <ul><li>Bitcoin, in terms of market value, ros...  0.000  0.924  0.076   \n",
       "3  Bitcoin and similar blockchain-based cryptos e...  0.000  1.000  0.000   \n",
       "4  JPMorgan CEO Jamie Dimon is still not a Bitcoi...  0.116  0.884  0.000   \n",
       "\n",
       "   compound  \n",
       "0    0.5574  \n",
       "1    0.0000  \n",
       "2    0.3400  \n",
       "3    0.0000  \n",
       "4   -0.2411  "
      ]
     },
     "execution_count": 22,
     "metadata": {},
     "output_type": "execute_result"
    }
   ],
   "source": [
    "# Create the Bitcoin sentiment scores DataFrame\n",
    "\n",
    "bitcoin_df = get_sent_df(bitcoin['articles'])\n",
    "bitcoin_df.head()"
   ]
  },
  {
   "cell_type": "code",
   "execution_count": 21,
   "metadata": {},
   "outputs": [
    {
     "data": {
      "text/html": [
       "<div>\n",
       "<style scoped>\n",
       "    .dataframe tbody tr th:only-of-type {\n",
       "        vertical-align: middle;\n",
       "    }\n",
       "\n",
       "    .dataframe tbody tr th {\n",
       "        vertical-align: top;\n",
       "    }\n",
       "\n",
       "    .dataframe thead th {\n",
       "        text-align: right;\n",
       "    }\n",
       "</style>\n",
       "<table border=\"1\" class=\"dataframe\">\n",
       "  <thead>\n",
       "    <tr style=\"text-align: right;\">\n",
       "      <th></th>\n",
       "      <th>text</th>\n",
       "      <th>neg</th>\n",
       "      <th>neu</th>\n",
       "      <th>pos</th>\n",
       "      <th>compound</th>\n",
       "    </tr>\n",
       "  </thead>\n",
       "  <tbody>\n",
       "    <tr>\n",
       "      <th>0</th>\n",
       "      <td>Its the countrys latest crackdown on digital c...</td>\n",
       "      <td>0.000</td>\n",
       "      <td>1.000</td>\n",
       "      <td>0.000</td>\n",
       "      <td>0.0000</td>\n",
       "    </tr>\n",
       "    <tr>\n",
       "      <th>1</th>\n",
       "      <td>You won't have to stick to Bitcoin if you're d...</td>\n",
       "      <td>0.036</td>\n",
       "      <td>0.838</td>\n",
       "      <td>0.127</td>\n",
       "      <td>0.5574</td>\n",
       "    </tr>\n",
       "    <tr>\n",
       "      <th>2</th>\n",
       "      <td>OpenSea isn't wasting much time after its head...</td>\n",
       "      <td>0.126</td>\n",
       "      <td>0.694</td>\n",
       "      <td>0.180</td>\n",
       "      <td>0.2865</td>\n",
       "    </tr>\n",
       "    <tr>\n",
       "      <th>3</th>\n",
       "      <td>Robinhood plans to start a cryptocurrency wall...</td>\n",
       "      <td>0.000</td>\n",
       "      <td>0.892</td>\n",
       "      <td>0.108</td>\n",
       "      <td>0.4588</td>\n",
       "    </tr>\n",
       "    <tr>\n",
       "      <th>4</th>\n",
       "      <td>image source, foundation.app/@SideEyeingChloe\\...</td>\n",
       "      <td>0.000</td>\n",
       "      <td>0.899</td>\n",
       "      <td>0.101</td>\n",
       "      <td>0.4215</td>\n",
       "    </tr>\n",
       "  </tbody>\n",
       "</table>\n",
       "</div>"
      ],
      "text/plain": [
       "                                                text    neg    neu    pos  \\\n",
       "0  Its the countrys latest crackdown on digital c...  0.000  1.000  0.000   \n",
       "1  You won't have to stick to Bitcoin if you're d...  0.036  0.838  0.127   \n",
       "2  OpenSea isn't wasting much time after its head...  0.126  0.694  0.180   \n",
       "3  Robinhood plans to start a cryptocurrency wall...  0.000  0.892  0.108   \n",
       "4  image source, foundation.app/@SideEyeingChloe\\...  0.000  0.899  0.101   \n",
       "\n",
       "   compound  \n",
       "0    0.0000  \n",
       "1    0.5574  \n",
       "2    0.2865  \n",
       "3    0.4588  \n",
       "4    0.4215  "
      ]
     },
     "execution_count": 21,
     "metadata": {},
     "output_type": "execute_result"
    }
   ],
   "source": [
    "# Create the Ethereum sentiment scores DataFrame\n",
    "\n",
    "ethereum_df = get_sent_df(ethereum['articles'])\n",
    "ethereum_df.head()"
   ]
  },
  {
   "cell_type": "code",
   "execution_count": 24,
   "metadata": {},
   "outputs": [
    {
     "data": {
      "text/html": [
       "<div>\n",
       "<style scoped>\n",
       "    .dataframe tbody tr th:only-of-type {\n",
       "        vertical-align: middle;\n",
       "    }\n",
       "\n",
       "    .dataframe tbody tr th {\n",
       "        vertical-align: top;\n",
       "    }\n",
       "\n",
       "    .dataframe thead th {\n",
       "        text-align: right;\n",
       "    }\n",
       "</style>\n",
       "<table border=\"1\" class=\"dataframe\">\n",
       "  <thead>\n",
       "    <tr style=\"text-align: right;\">\n",
       "      <th></th>\n",
       "      <th>neg</th>\n",
       "      <th>neu</th>\n",
       "      <th>pos</th>\n",
       "      <th>compound</th>\n",
       "    </tr>\n",
       "  </thead>\n",
       "  <tbody>\n",
       "    <tr>\n",
       "      <th>count</th>\n",
       "      <td>20.000000</td>\n",
       "      <td>20.000000</td>\n",
       "      <td>20.000000</td>\n",
       "      <td>20.000000</td>\n",
       "    </tr>\n",
       "    <tr>\n",
       "      <th>mean</th>\n",
       "      <td>0.028800</td>\n",
       "      <td>0.900500</td>\n",
       "      <td>0.070800</td>\n",
       "      <td>0.160675</td>\n",
       "    </tr>\n",
       "    <tr>\n",
       "      <th>std</th>\n",
       "      <td>0.051908</td>\n",
       "      <td>0.072878</td>\n",
       "      <td>0.066801</td>\n",
       "      <td>0.363630</td>\n",
       "    </tr>\n",
       "    <tr>\n",
       "      <th>min</th>\n",
       "      <td>0.000000</td>\n",
       "      <td>0.765000</td>\n",
       "      <td>0.000000</td>\n",
       "      <td>-0.709600</td>\n",
       "    </tr>\n",
       "    <tr>\n",
       "      <th>25%</th>\n",
       "      <td>0.000000</td>\n",
       "      <td>0.856750</td>\n",
       "      <td>0.000000</td>\n",
       "      <td>0.000000</td>\n",
       "    </tr>\n",
       "    <tr>\n",
       "      <th>50%</th>\n",
       "      <td>0.000000</td>\n",
       "      <td>0.902000</td>\n",
       "      <td>0.062000</td>\n",
       "      <td>0.208200</td>\n",
       "    </tr>\n",
       "    <tr>\n",
       "      <th>75%</th>\n",
       "      <td>0.037750</td>\n",
       "      <td>0.955000</td>\n",
       "      <td>0.104000</td>\n",
       "      <td>0.439600</td>\n",
       "    </tr>\n",
       "    <tr>\n",
       "      <th>max</th>\n",
       "      <td>0.195000</td>\n",
       "      <td>1.000000</td>\n",
       "      <td>0.219000</td>\n",
       "      <td>0.726900</td>\n",
       "    </tr>\n",
       "  </tbody>\n",
       "</table>\n",
       "</div>"
      ],
      "text/plain": [
       "             neg        neu        pos   compound\n",
       "count  20.000000  20.000000  20.000000  20.000000\n",
       "mean    0.028800   0.900500   0.070800   0.160675\n",
       "std     0.051908   0.072878   0.066801   0.363630\n",
       "min     0.000000   0.765000   0.000000  -0.709600\n",
       "25%     0.000000   0.856750   0.000000   0.000000\n",
       "50%     0.000000   0.902000   0.062000   0.208200\n",
       "75%     0.037750   0.955000   0.104000   0.439600\n",
       "max     0.195000   1.000000   0.219000   0.726900"
      ]
     },
     "execution_count": 24,
     "metadata": {},
     "output_type": "execute_result"
    }
   ],
   "source": [
    "# Describe the Bitcoin Sentiment\n",
    "bitcoin_df.describe()"
   ]
  },
  {
   "cell_type": "code",
   "execution_count": 26,
   "metadata": {},
   "outputs": [
    {
     "data": {
      "text/html": [
       "<div>\n",
       "<style scoped>\n",
       "    .dataframe tbody tr th:only-of-type {\n",
       "        vertical-align: middle;\n",
       "    }\n",
       "\n",
       "    .dataframe tbody tr th {\n",
       "        vertical-align: top;\n",
       "    }\n",
       "\n",
       "    .dataframe thead th {\n",
       "        text-align: right;\n",
       "    }\n",
       "</style>\n",
       "<table border=\"1\" class=\"dataframe\">\n",
       "  <thead>\n",
       "    <tr style=\"text-align: right;\">\n",
       "      <th></th>\n",
       "      <th>neg</th>\n",
       "      <th>neu</th>\n",
       "      <th>pos</th>\n",
       "      <th>compound</th>\n",
       "    </tr>\n",
       "  </thead>\n",
       "  <tbody>\n",
       "    <tr>\n",
       "      <th>count</th>\n",
       "      <td>20.000000</td>\n",
       "      <td>20.000000</td>\n",
       "      <td>20.000000</td>\n",
       "      <td>20.000000</td>\n",
       "    </tr>\n",
       "    <tr>\n",
       "      <th>mean</th>\n",
       "      <td>0.021450</td>\n",
       "      <td>0.908250</td>\n",
       "      <td>0.070400</td>\n",
       "      <td>0.193495</td>\n",
       "    </tr>\n",
       "    <tr>\n",
       "      <th>std</th>\n",
       "      <td>0.049276</td>\n",
       "      <td>0.090249</td>\n",
       "      <td>0.073915</td>\n",
       "      <td>0.361628</td>\n",
       "    </tr>\n",
       "    <tr>\n",
       "      <th>min</th>\n",
       "      <td>0.000000</td>\n",
       "      <td>0.694000</td>\n",
       "      <td>0.000000</td>\n",
       "      <td>-0.670500</td>\n",
       "    </tr>\n",
       "    <tr>\n",
       "      <th>25%</th>\n",
       "      <td>0.000000</td>\n",
       "      <td>0.844750</td>\n",
       "      <td>0.000000</td>\n",
       "      <td>0.000000</td>\n",
       "    </tr>\n",
       "    <tr>\n",
       "      <th>50%</th>\n",
       "      <td>0.000000</td>\n",
       "      <td>0.910000</td>\n",
       "      <td>0.067000</td>\n",
       "      <td>0.165150</td>\n",
       "    </tr>\n",
       "    <tr>\n",
       "      <th>75%</th>\n",
       "      <td>0.000000</td>\n",
       "      <td>1.000000</td>\n",
       "      <td>0.102750</td>\n",
       "      <td>0.445000</td>\n",
       "    </tr>\n",
       "    <tr>\n",
       "      <th>max</th>\n",
       "      <td>0.169000</td>\n",
       "      <td>1.000000</td>\n",
       "      <td>0.245000</td>\n",
       "      <td>0.876500</td>\n",
       "    </tr>\n",
       "  </tbody>\n",
       "</table>\n",
       "</div>"
      ],
      "text/plain": [
       "             neg        neu        pos   compound\n",
       "count  20.000000  20.000000  20.000000  20.000000\n",
       "mean    0.021450   0.908250   0.070400   0.193495\n",
       "std     0.049276   0.090249   0.073915   0.361628\n",
       "min     0.000000   0.694000   0.000000  -0.670500\n",
       "25%     0.000000   0.844750   0.000000   0.000000\n",
       "50%     0.000000   0.910000   0.067000   0.165150\n",
       "75%     0.000000   1.000000   0.102750   0.445000\n",
       "max     0.169000   1.000000   0.245000   0.876500"
      ]
     },
     "execution_count": 26,
     "metadata": {},
     "output_type": "execute_result"
    }
   ],
   "source": [
    "# Describe the Ethereum Sentiment\n",
    "\n",
    "ethereum_df.describe()"
   ]
  },
  {
   "cell_type": "markdown",
   "metadata": {},
   "source": [
    "### Questions:\n",
    "\n",
    "Q: Which coin had the highest mean positive score?\n",
    "\n",
    "A: \n",
    "\n",
    "Q: Which coin had the highest compound score?\n",
    "\n",
    "A: \n",
    "\n",
    "Q. Which coin had the highest positive score?\n",
    "\n",
    "A: "
   ]
  },
  {
   "cell_type": "markdown",
   "metadata": {},
   "source": [
    "---"
   ]
  },
  {
   "cell_type": "markdown",
   "metadata": {},
   "source": [
    "## 2. Natural Language Processing\n",
    "---\n",
    "###   Tokenizer\n",
    "\n",
    "In this section, you will use NLTK and Python to tokenize the text for each coin. Be sure to:\n",
    "1. Lowercase each word.\n",
    "2. Remove Punctuation.\n",
    "3. Remove Stopwords."
   ]
  },
  {
   "cell_type": "code",
   "execution_count": 63,
   "metadata": {},
   "outputs": [
    {
     "name": "stderr",
     "output_type": "stream",
     "text": [
      "[nltk_data] Downloading package stopwords to\n",
      "[nltk_data]     /Users/mcmachine/nltk_data...\n",
      "[nltk_data]   Package stopwords is already up-to-date!\n",
      "[nltk_data] Downloading package punkt to /Users/mcmachine/nltk_data...\n",
      "[nltk_data]   Package punkt is already up-to-date!\n",
      "[nltk_data] Downloading package wordnet to\n",
      "[nltk_data]     /Users/mcmachine/nltk_data...\n",
      "[nltk_data]   Unzipping corpora/wordnet.zip.\n"
     ]
    }
   ],
   "source": [
    "import nltk\n",
    "nltk.download('stopwords')\n",
    "nltk.download('punkt')\n",
    "nltk.download('wordnet')\n",
    "from nltk.tokenize import word_tokenize, sent_tokenize\n",
    "from nltk.corpus import stopwords\n",
    "from nltk.stem import WordNetLemmatizer, PorterStemmer\n",
    "from string import punctuation\n",
    "import re"
   ]
  },
  {
   "cell_type": "code",
   "execution_count": 64,
   "metadata": {},
   "outputs": [],
   "source": [
    "# Instantiate the lemmatizer\n",
    "\n",
    "lemmatizer = WordNetLemmatizer()"
   ]
  },
  {
   "cell_type": "code",
   "execution_count": 65,
   "metadata": {},
   "outputs": [],
   "source": [
    "# Create a list of stopwords\n",
    "\n",
    "stops = stopwords.words(\"english\")"
   ]
  },
  {
   "cell_type": "code",
   "execution_count": 66,
   "metadata": {},
   "outputs": [],
   "source": [
    "# Expand the default stopwords list if necessary\n",
    "stops.append(\"'\")"
   ]
  },
  {
   "cell_type": "code",
   "execution_count": 67,
   "metadata": {},
   "outputs": [],
   "source": [
    "# Complete the tokenizer function\n",
    "def tokenizer(text):\n",
    "    \"\"\"Tokenizes text.\"\"\"\n",
    "    \n",
    "    # Remove the punctuation from text\n",
    "    words = word_tokenize(text)\n",
    "    \n",
    "    words = [x.lower() for x in words]\n",
    "    words = [x for x in words if x not in punctuation]\n",
    "    words = [x for x in words if x not in stops]\n",
    "    words = [lemmatizer.lemmatize(x) for x in words]\n",
    "\n",
    "   \n",
    "    # Create a tokenized list of the words\n",
    "    \n",
    "    \n",
    "    # Lemmatize words into root words\n",
    "\n",
    "   \n",
    "    # Convert the words to lowercase\n",
    "    \n",
    "    \n",
    "    # Remove the stop words\n",
    "    \n",
    "    \n",
    "    return words"
   ]
  },
  {
   "cell_type": "code",
   "execution_count": 68,
   "metadata": {},
   "outputs": [
    {
     "data": {
      "text/plain": [
       "['wo',\n",
       " \"n't\",\n",
       " 'stick',\n",
       " 'bitcoin',\n",
       " \"'re\",\n",
       " 'determined',\n",
       " 'pay',\n",
       " 'movie',\n",
       " 'ticket',\n",
       " 'cryptocurrency',\n",
       " 'amc',\n",
       " 'chief',\n",
       " 'adam',\n",
       " 'aron',\n",
       " 'revealed',\n",
       " 'theater',\n",
       " 'chain',\n",
       " 'also',\n",
       " 'accept',\n",
       " 'ethereum',\n",
       " 'litecoin',\n",
       " 'bi…',\n",
       " '+1198',\n",
       " 'char']"
      ]
     },
     "execution_count": 68,
     "metadata": {},
     "output_type": "execute_result"
    }
   ],
   "source": [
    "tokenizer(bitcoin_df[\"text\"][0])"
   ]
  },
  {
   "cell_type": "code",
   "execution_count": 69,
   "metadata": {},
   "outputs": [],
   "source": [
    "# Create a new tokens column for Bitcoin\n",
    "# YOUR CODE HERE!"
   ]
  },
  {
   "cell_type": "code",
   "execution_count": 14,
   "metadata": {},
   "outputs": [],
   "source": [
    "# Create a new tokens column for Ethereum\n",
    "# YOUR CODE HERE!"
   ]
  },
  {
   "cell_type": "markdown",
   "metadata": {},
   "source": [
    "---"
   ]
  },
  {
   "cell_type": "markdown",
   "metadata": {},
   "source": [
    "### NGrams and Frequency Analysis\n",
    "\n",
    "In this section you will look at the ngrams and word frequency for each coin. \n",
    "\n",
    "1. Use NLTK to produce the n-grams for N = 2. \n",
    "2. List the top 10 words for each coin. "
   ]
  },
  {
   "cell_type": "code",
   "execution_count": 15,
   "metadata": {},
   "outputs": [],
   "source": [
    "from collections import Counter\n",
    "from nltk import ngrams"
   ]
  },
  {
   "cell_type": "code",
   "execution_count": 16,
   "metadata": {},
   "outputs": [],
   "source": [
    "# Generate the Bitcoin N-grams where N=2\n",
    "# YOUR CODE HERE!"
   ]
  },
  {
   "cell_type": "code",
   "execution_count": 17,
   "metadata": {},
   "outputs": [],
   "source": [
    "# Generate the Ethereum N-grams where N=2\n",
    "# YOUR CODE HERE!"
   ]
  },
  {
   "cell_type": "code",
   "execution_count": 18,
   "metadata": {},
   "outputs": [],
   "source": [
    "# Function token_count generates the top 10 words for a given coin\n",
    "def token_count(tokens, N=3):\n",
    "    \"\"\"Returns the top N tokens from the frequency count\"\"\"\n",
    "    return Counter(tokens).most_common(N)"
   ]
  },
  {
   "cell_type": "code",
   "execution_count": 19,
   "metadata": {},
   "outputs": [],
   "source": [
    "# Use token_count to get the top 10 words for Bitcoin\n",
    "# YOUR CODE HERE!"
   ]
  },
  {
   "cell_type": "code",
   "execution_count": 20,
   "metadata": {},
   "outputs": [],
   "source": [
    "# Use token_count to get the top 10 words for Ethereum\n",
    "# YOUR CODE HERE!"
   ]
  },
  {
   "cell_type": "markdown",
   "metadata": {},
   "source": [
    "---"
   ]
  },
  {
   "cell_type": "markdown",
   "metadata": {},
   "source": [
    "### Word Clouds\n",
    "\n",
    "In this section, you will generate word clouds for each coin to summarize the news for each coin"
   ]
  },
  {
   "cell_type": "code",
   "execution_count": 21,
   "metadata": {},
   "outputs": [],
   "source": [
    "from wordcloud import WordCloud\n",
    "import matplotlib.pyplot as plt\n",
    "plt.style.use('seaborn-whitegrid')\n",
    "import matplotlib as mpl\n",
    "mpl.rcParams['figure.figsize'] = [20.0, 10.0]"
   ]
  },
  {
   "cell_type": "code",
   "execution_count": 22,
   "metadata": {},
   "outputs": [],
   "source": [
    "# Generate the Bitcoin word cloud\n",
    "# YOUR CODE HERE!"
   ]
  },
  {
   "cell_type": "code",
   "execution_count": 23,
   "metadata": {},
   "outputs": [],
   "source": [
    "# Generate the Ethereum word cloud\n",
    "# YOUR CODE HERE!"
   ]
  },
  {
   "cell_type": "markdown",
   "metadata": {},
   "source": [
    "---\n",
    "## 3. Named Entity Recognition\n",
    "\n",
    "In this section, you will build a named entity recognition model for both Bitcoin and Ethereum, then visualize the tags using SpaCy."
   ]
  },
  {
   "cell_type": "code",
   "execution_count": 24,
   "metadata": {},
   "outputs": [],
   "source": [
    "import spacy\n",
    "from spacy import displacy"
   ]
  },
  {
   "cell_type": "code",
   "execution_count": 25,
   "metadata": {},
   "outputs": [],
   "source": [
    "# Download the language model for SpaCy\n",
    "# !python -m spacy download en_core_web_sm"
   ]
  },
  {
   "cell_type": "code",
   "execution_count": 26,
   "metadata": {},
   "outputs": [],
   "source": [
    "# Load the spaCy model\n",
    "nlp = spacy.load('en_core_web_sm')"
   ]
  },
  {
   "cell_type": "markdown",
   "metadata": {},
   "source": [
    "---\n",
    "### Bitcoin NER"
   ]
  },
  {
   "cell_type": "code",
   "execution_count": 27,
   "metadata": {},
   "outputs": [],
   "source": [
    "# Concatenate all of the Bitcoin text together\n",
    "# YOUR CODE HERE!"
   ]
  },
  {
   "cell_type": "code",
   "execution_count": 28,
   "metadata": {},
   "outputs": [],
   "source": [
    "# Run the NER processor on all of the text\n",
    "# YOUR CODE HERE!\n",
    "\n",
    "# Add a title to the document\n",
    "# YOUR CODE HERE!"
   ]
  },
  {
   "cell_type": "code",
   "execution_count": 29,
   "metadata": {},
   "outputs": [],
   "source": [
    "# Render the visualization\n",
    "# YOUR CODE HERE!"
   ]
  },
  {
   "cell_type": "code",
   "execution_count": 30,
   "metadata": {},
   "outputs": [],
   "source": [
    "# List all Entities\n",
    "# YOUR CODE HERE!"
   ]
  },
  {
   "cell_type": "markdown",
   "metadata": {},
   "source": [
    "---"
   ]
  },
  {
   "cell_type": "markdown",
   "metadata": {},
   "source": [
    "### Ethereum NER"
   ]
  },
  {
   "cell_type": "code",
   "execution_count": 31,
   "metadata": {},
   "outputs": [],
   "source": [
    "# Concatenate all of the Ethereum text together\n",
    "# YOUR CODE HERE!"
   ]
  },
  {
   "cell_type": "code",
   "execution_count": 32,
   "metadata": {},
   "outputs": [],
   "source": [
    "# Run the NER processor on all of the text\n",
    "# YOUR CODE HERE!\n",
    "\n",
    "# Add a title to the document\n",
    "# YOUR CODE HERE!"
   ]
  },
  {
   "cell_type": "code",
   "execution_count": 33,
   "metadata": {},
   "outputs": [],
   "source": [
    "# Render the visualization\n",
    "# YOUR CODE HERE!"
   ]
  },
  {
   "cell_type": "code",
   "execution_count": 34,
   "metadata": {},
   "outputs": [],
   "source": [
    "# List all Entities\n",
    "# YOUR CODE HERE!"
   ]
  },
  {
   "cell_type": "markdown",
   "metadata": {},
   "source": [
    "---"
   ]
  }
 ],
 "metadata": {
  "file_extension": ".py",
  "kernelspec": {
   "display_name": "Python [conda env:dev]",
   "language": "python",
   "name": "conda-env-dev-py"
  },
  "language_info": {
   "codemirror_mode": {
    "name": "ipython",
    "version": 3
   },
   "file_extension": ".py",
   "mimetype": "text/x-python",
   "name": "python",
   "nbconvert_exporter": "python",
   "pygments_lexer": "ipython3",
   "version": "3.7.10"
  },
  "mimetype": "text/x-python",
  "name": "python",
  "npconvert_exporter": "python",
  "pygments_lexer": "ipython3",
  "version": 3
 },
 "nbformat": 4,
 "nbformat_minor": 4
}
